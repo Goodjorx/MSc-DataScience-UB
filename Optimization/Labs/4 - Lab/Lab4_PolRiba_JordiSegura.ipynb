{
  "cells": [
    {
      "cell_type": "markdown",
      "id": "7fd0173b",
      "metadata": {
        "id": "7fd0173b"
      },
      "source": [
        "## Laboratory 4 :POL RIBA MOSOLL (20179725) & JORDI SEGURA PONS (2128790)\n"
      ]
    },
    {
      "cell_type": "code",
      "execution_count": null,
      "id": "9f1a88e5",
      "metadata": {
        "id": "9f1a88e5"
      },
      "outputs": [],
      "source": [
        "# Firstly, we import the needed libraries\n",
        "\n",
        "import warnings\n",
        "warnings.filterwarnings('ignore')\n",
        "\n",
        "import matplotlib\n",
        "import math as math\n",
        "import matplotlib.pyplot as plt \n",
        "from mpl_toolkits.mplot3d import Axes3D\n",
        "\n",
        "import numpy as np\n",
        "import pandas as pd\n",
        "\n",
        "%matplotlib inline"
      ]
    },
    {
      "cell_type": "markdown",
      "id": "46cae42e",
      "metadata": {
        "id": "46cae42e"
      },
      "source": [
        "## 1 - Equality constraints: KKT conditions"
      ]
    },
    {
      "cell_type": "markdown",
      "id": "62001ad6",
      "metadata": {
        "id": "62001ad6"
      },
      "source": [
        "### Proposed Experiments"
      ]
    },
    {
      "cell_type": "markdown",
      "id": "2209e791",
      "metadata": {
        "id": "2209e791"
      },
      "source": [
        "#### 1. Consider $\\alpha^k = 1$ and iteratively update the current point to obtain the next optimal point. "
      ]
    },
    {
      "cell_type": "markdown",
      "id": "7b25b08d",
      "metadata": {
        "id": "7b25b08d"
      },
      "source": [
        "We define all the functions, gradients and hessians we will need during the laboratory."
      ]
    },
    {
      "cell_type": "code",
      "execution_count": null,
      "id": "0bb9b55d",
      "metadata": {
        "id": "0bb9b55d"
      },
      "outputs": [],
      "source": [
        "def f(x1, x2):\n",
        "\n",
        "    return np.exp(3*x1) + np.exp(-4*x2)\n",
        "\n",
        "def g(x1, x2):\n",
        "\n",
        "    return x1**2 + x2**2 - 1\n",
        "\n",
        "def gradient_f(x1, x2):\n",
        "\n",
        "    return np.matrix([3*np.exp(3*x1), -4*np.exp(-4*x2)])\n",
        "\n",
        "def gradient_g(x1, x2):\n",
        "\n",
        "    return np.matrix([2*x1, 2*x2])\n",
        "\n",
        "def hessian_f(x1, x2):\n",
        "\n",
        "    return np.matrix([[9*np.exp(3*x1),0], [0,16*np.exp(-4*x2)]])\n",
        "    \n",
        "def hessian_g(x1, x2):\n",
        "  \n",
        "    return np.matrix([[2, 0], [0, 2]])\n",
        "    "
      ]
    },
    {
      "cell_type": "markdown",
      "id": "774ed08d",
      "metadata": {
        "id": "774ed08d"
      },
      "source": [
        "Firstly, let's follow the instructions given by the enunciate."
      ]
    },
    {
      "cell_type": "markdown",
      "id": "rDNQIr7WHzZv",
      "metadata": {
        "id": "rDNQIr7WHzZv"
      },
      "source": [
        "We compute the gradient of functions $f$ and $g$ at the initial point x0:"
      ]
    },
    {
      "cell_type": "code",
      "execution_count": null,
      "id": "db0b16d7",
      "metadata": {
        "colab": {
          "base_uri": "https://localhost:8080/"
        },
        "id": "db0b16d7",
        "outputId": "a98a2f83-5ef4-4cdd-86c1-d5f54d50ef4f"
      },
      "outputs": [
        {
          "output_type": "stream",
          "name": "stdout",
          "text": [
            "[[ 0.14936121 -0.07326256]]\n",
            "[[-2  2]]\n"
          ]
        }
      ],
      "source": [
        "lambda_0 = -1\n",
        "x0 = np.matrix([-1, 1])\n",
        "print(gradient_f(x0[0, 0], x0[0, 1]))\n",
        "print(gradient_g(x0[0, 0], x0[0, 1]))"
      ]
    },
    {
      "cell_type": "markdown",
      "id": "zlc3imfiH7l7",
      "metadata": {
        "id": "zlc3imfiH7l7"
      },
      "source": [
        "We compute the gradient of the Lagrangian at the x0:"
      ]
    },
    {
      "cell_type": "code",
      "execution_count": null,
      "id": "d2f25e8c",
      "metadata": {
        "colab": {
          "base_uri": "https://localhost:8080/"
        },
        "id": "d2f25e8c",
        "outputId": "6f956442-ff5f-4eca-d96c-1977ef489fc0"
      },
      "outputs": [
        {
          "output_type": "execute_result",
          "data": {
            "text/plain": [
              "matrix([[-1.85063879,  1.92673744]])"
            ]
          },
          "metadata": {},
          "execution_count": 34
        }
      ],
      "source": [
        "Gradient_Lag = gradient_f(x0[0, 0], x0[0, 1]) - lambda_0 * gradient_g(x0[0, 0], x0[0, 1])\n",
        "Gradient_Lag"
      ]
    },
    {
      "cell_type": "markdown",
      "id": "8UxPO674H_gb",
      "metadata": {
        "id": "8UxPO674H_gb"
      },
      "source": [
        "We compute the hessian of $f$ at x0:"
      ]
    },
    {
      "cell_type": "code",
      "execution_count": null,
      "id": "d79b5bda",
      "metadata": {
        "colab": {
          "base_uri": "https://localhost:8080/"
        },
        "id": "d79b5bda",
        "outputId": "5aeedeb4-35cc-49fe-c1e1-61afe9adf759"
      },
      "outputs": [
        {
          "output_type": "execute_result",
          "data": {
            "text/plain": [
              "matrix([[0.44808362, 0.        ],\n",
              "        [0.        , 0.29305022]])"
            ]
          },
          "metadata": {},
          "execution_count": 35
        }
      ],
      "source": [
        "hessian_f(x0[0, 0], x0[0, 1])"
      ]
    },
    {
      "cell_type": "markdown",
      "id": "5mGpRiKuIOF8",
      "metadata": {
        "id": "5mGpRiKuIOF8"
      },
      "source": [
        "We compute the hessian of $g$ at x0:"
      ]
    },
    {
      "cell_type": "code",
      "execution_count": null,
      "id": "98d3ff0a",
      "metadata": {
        "colab": {
          "base_uri": "https://localhost:8080/"
        },
        "id": "98d3ff0a",
        "outputId": "651c8426-e862-4a5f-d067-eda0cfdb1f78",
        "scrolled": true
      },
      "outputs": [
        {
          "output_type": "execute_result",
          "data": {
            "text/plain": [
              "matrix([[2, 0],\n",
              "        [0, 2]])"
            ]
          },
          "metadata": {},
          "execution_count": 36
        }
      ],
      "source": [
        "hessian_g(x0[0, 0], x0[0, 1])"
      ]
    },
    {
      "cell_type": "markdown",
      "id": "e-QcFU0FISYR",
      "metadata": {
        "id": "e-QcFU0FISYR"
      },
      "source": [
        "We compute the hessian of the Lagrangian at x0:"
      ]
    },
    {
      "cell_type": "code",
      "execution_count": null,
      "id": "e674c438",
      "metadata": {
        "colab": {
          "base_uri": "https://localhost:8080/"
        },
        "id": "e674c438",
        "outputId": "bf529329-08af-4373-aeee-fc052ea102ec"
      },
      "outputs": [
        {
          "output_type": "execute_result",
          "data": {
            "text/plain": [
              "matrix([[2.44808362, 0.        ],\n",
              "        [0.        , 2.29305022]])"
            ]
          },
          "metadata": {},
          "execution_count": 37
        }
      ],
      "source": [
        "hessian_f(x0[0, 0], x0[0, 1])-lambda_0*hessian_g(x0[0, 0], x0[0, 1])"
      ]
    },
    {
      "cell_type": "markdown",
      "id": "ynbTqMe4IfEC",
      "metadata": {
        "id": "ynbTqMe4IfEC"
      },
      "source": [
        "Let's now create the matrices of the linear system to solve:"
      ]
    },
    {
      "cell_type": "code",
      "execution_count": null,
      "id": "3081f6eb",
      "metadata": {
        "id": "3081f6eb",
        "colab": {
          "base_uri": "https://localhost:8080/"
        },
        "outputId": "350b0932-353b-4949-bcc8-70dfba8f2347"
      },
      "outputs": [
        {
          "output_type": "execute_result",
          "data": {
            "text/plain": [
              "matrix([[ 2.44808362,  0.        ,  2.        ],\n",
              "        [ 0.        ,  2.29305022, -2.        ],\n",
              "        [ 2.        , -2.        ,  0.        ]])"
            ]
          },
          "metadata": {},
          "execution_count": 38
        }
      ],
      "source": [
        "M1 = hessian_f(x0[0, 0], x0[0, 1]) - lambda_0*hessian_g(x0[0, 0], x0[0, 1])\n",
        "M2 = - gradient_g(x0[0, 0], x0[0, 1])\n",
        "M_aux = np.concatenate((M1, M2.T), axis=1)\n",
        "Matrix = np.concatenate((M_aux, np.concatenate((M2, [[0]]), axis=1)), axis=0)\n",
        "Matrix"
      ]
    },
    {
      "cell_type": "code",
      "execution_count": null,
      "id": "d716704b",
      "metadata": {
        "colab": {
          "base_uri": "https://localhost:8080/"
        },
        "id": "d716704b",
        "outputId": "ee29be39-2315-4205-e45d-9beba1076bdb"
      },
      "outputs": [
        {
          "output_type": "execute_result",
          "data": {
            "text/plain": [
              "matrix([[ 1.85063879],\n",
              "        [-1.92673744],\n",
              "        [ 1.        ]])"
            ]
          },
          "metadata": {},
          "execution_count": 39
        }
      ],
      "source": [
        "Residuals = np.concatenate((-Gradient_Lag, [[g(x0[0,0], x0[0,1])]]), axis = 1).T\n",
        "Residuals"
      ]
    },
    {
      "cell_type": "markdown",
      "id": "7PiaofnNIq-5",
      "metadata": {
        "id": "7PiaofnNIq-5"
      },
      "source": [
        "We solve the linear system:"
      ]
    },
    {
      "cell_type": "code",
      "execution_count": null,
      "id": "0a288c29",
      "metadata": {
        "colab": {
          "base_uri": "https://localhost:8080/"
        },
        "id": "0a288c29",
        "outputId": "5a2adede-40a1-4907-9709-f0e1c78fb83d"
      },
      "outputs": [
        {
          "output_type": "execute_result",
          "data": {
            "text/plain": [
              "matrix([[ 0.22577436],\n",
              "        [-0.27422564],\n",
              "        [ 0.64896214]])"
            ]
          },
          "metadata": {},
          "execution_count": 40
        }
      ],
      "source": [
        "Solution = np.linalg.solve(Matrix, Residuals)\n",
        "Solution"
      ]
    },
    {
      "cell_type": "markdown",
      "id": "LEtS7Ob9JAR1",
      "metadata": {
        "id": "LEtS7Ob9JAR1"
      },
      "source": [
        "We update the point and $\\lambda$ with the results obtained by the solution:"
      ]
    },
    {
      "cell_type": "code",
      "execution_count": null,
      "id": "f30d0f41",
      "metadata": {
        "colab": {
          "base_uri": "https://localhost:8080/"
        },
        "id": "f30d0f41",
        "outputId": "70546671-fc3d-4c26-cd86-5ec36259841b"
      },
      "outputs": [
        {
          "output_type": "stream",
          "name": "stdout",
          "text": [
            "[[-0.77422564  1.22577436]\n",
            " [-1.27422564  0.72577436]]\n",
            "-0.351037859248437\n"
          ]
        }
      ],
      "source": [
        "X = x0 + Solution[0:2,0]\n",
        "Lambda = lambda_0 + Solution[2,0]\n",
        "print(X)\n",
        "print(Lambda)"
      ]
    },
    {
      "cell_type": "markdown",
      "id": "e9a25e7b",
      "metadata": {
        "id": "e9a25e7b"
      },
      "source": [
        "The results we obtained in the last exercise are the same as the given in the description of the problem.\n",
        "After 1 iteration of the process, let's build up the function to compute the iterative algorithm."
      ]
    },
    {
      "cell_type": "code",
      "execution_count": null,
      "id": "58ed1994",
      "metadata": {
        "id": "58ed1994"
      },
      "outputs": [],
      "source": [
        "# Function to compute the iterative algorithm\n",
        "\n",
        "def Optimization(x0 = np.matrix([-1, 1]), lambda0 = -1, Iter = 100):\n",
        "\n",
        "    CountIter = 0\n",
        "\n",
        "    while CountIter < Iter:\n",
        "\n",
        "        Gradient_Lag = gradient_f(x0[0, 0], x0[0, 1]) - lambda0 * gradient_g(x0[0, 0], x0[0, 1])\n",
        "        Hessian_Lag = hessian_f(x0[0, 0], x0[0, 1]) - lambda0 * hessian_g(x0[0, 0], x0[0, 1])\n",
        "        M1 = hessian_f(x0[0, 0], x0[0, 1]) - lambda0 * hessian_g(x0[0, 0], x0[0, 1])\n",
        "        M2 = - gradient_g(x0[0, 0], x0[0, 1])\n",
        "        M_aux = np.concatenate((M1, M2.T), axis=1)\n",
        "        Matrix = np.concatenate((M_aux, np.concatenate((M2, [[0]]), axis=1)), axis=0)\n",
        "        Results = np.concatenate((-Gradient_Lag, [[g(x0[0,0], x0[0,1])]]), axis = 1).T\n",
        "        Solution = np.linalg.solve(Matrix, Results)\n",
        "        x0 = x0 + Solution[0:2,0].T\n",
        "        lambda0 = lambda0 + Solution[2,0]\n",
        "\n",
        "        if np.linalg.norm(Gradient_Lag) < 10**-6:\n",
        "\n",
        "            break\n",
        "\n",
        "        CountIter = CountIter + 1\n",
        "        \n",
        "    return CountIter, x0"
      ]
    },
    {
      "cell_type": "code",
      "execution_count": null,
      "id": "46de23c1",
      "metadata": {
        "colab": {
          "base_uri": "https://localhost:8080/"
        },
        "id": "46de23c1",
        "outputId": "b06edbd5-c175-4f82-fc1c-7496e7bf6e3b",
        "scrolled": false
      },
      "outputs": [
        {
          "output_type": "execute_result",
          "data": {
            "text/plain": [
              "(4, matrix([[-0.74833549,  0.66332043]]))"
            ]
          },
          "metadata": {},
          "execution_count": 43
        }
      ],
      "source": [
        "Optimization(x0 = np.matrix([-1, 1]), Iter = 100)"
      ]
    },
    {
      "cell_type": "markdown",
      "id": "eb23f8dd",
      "metadata": {
        "id": "eb23f8dd"
      },
      "source": [
        "As it can be seen in the results above, the function \"Optimization\" prints us the number of iterations computed and the solution. \n",
        "As the solution matches with the suggested on the pdf file using the point (-1, 1) as the initial point, we will conclude that we did it correctly.\n",
        "It reached the optimal solution in 4 iterations, which means the function is very efficient."
      ]
    },
    {
      "cell_type": "markdown",
      "id": "15b89a31",
      "metadata": {
        "id": "15b89a31"
      },
      "source": [
        "#### 2. Perform some experiments with starting points that are farther away of the optimal solution"
      ]
    },
    {
      "cell_type": "code",
      "execution_count": null,
      "id": "14517ac6",
      "metadata": {
        "colab": {
          "base_uri": "https://localhost:8080/"
        },
        "id": "14517ac6",
        "outputId": "be407665-1be8-4dee-a938-2ccefc14bb6b"
      },
      "outputs": [
        {
          "output_type": "stream",
          "name": "stdout",
          "text": [
            "\n",
            "Initial point (x0): [8, 2]\n",
            "Solution: [[nan nan]]\n",
            "Number of iterations: 100\n",
            "\n",
            "Initial point (x0): [-5, 3]\n",
            "Solution: [[-0.74833549  0.66332043]]\n",
            "Number of iterations: 6\n",
            "\n",
            "Initial point (x0): [-10, 0]\n",
            "Solution: [[-0.74833549  0.66332043]]\n",
            "Number of iterations: 7\n",
            "\n",
            "Initial point (x0): [2, 4]\n",
            "Solution: [[-0.74833549  0.66332043]]\n",
            "Number of iterations: 12\n",
            "\n",
            "Initial point (x0): [-4, -5]\n",
            "Solution: [[ 0.91041323 -0.41370006]]\n",
            "Number of iterations: 18\n"
          ]
        }
      ],
      "source": [
        "points = [[8, 2], [-5, 3], [-10, 0], [2, 4], [-4, -5]]\n",
        "\n",
        "for p in points:\n",
        "  \n",
        "    solution_1 = Optimization(x0 = np.matrix(p), Iter = 100)\n",
        "    print('\\nInitial point (x0): ' + str(p) + '\\nSolution: ' + str(solution_1[1]) + '\\nNumber of iterations: ' + str(solution_1[0]))"
      ]
    },
    {
      "cell_type": "markdown",
      "id": "360b2194",
      "metadata": {
        "id": "360b2194"
      },
      "source": [
        "The results above show that when taking points which are close to the solution, the algorithm provides the solution (some times more efficiently than others), but when we try with further points, the function struggles to find the solution, even after 100 iterations (which is the upper treshold we setted up). In one of the points the function gets lost, and ends up a fake solution."
      ]
    },
    {
      "cell_type": "markdown",
      "id": "32ca79c6",
      "metadata": {
        "id": "32ca79c6"
      },
      "source": [
        "#### 3. Implement Merit function with $\\rho = 10$ and perform classical gradient descent to find an approximation to the solution we are looking for. Observe if you arrive near to the optimal solution of the problem. (You may have numerical problems with the gradient, normalize it at each iteration)"
      ]
    },
    {
      "cell_type": "markdown",
      "id": "72d56a81",
      "metadata": {
        "id": "72d56a81"
      },
      "source": [
        "We will now implement a code to run the Merit function with $\\rho = 10$"
      ]
    },
    {
      "cell_type": "code",
      "execution_count": null,
      "id": "e6148fb5",
      "metadata": {
        "id": "e6148fb5"
      },
      "outputs": [],
      "source": [
        "def Merit(x, y):\n",
        "  \n",
        "    return f(x, y) + 10 * g(x, y)**2"
      ]
    },
    {
      "cell_type": "code",
      "source": [
        "def gradient_Merit(x, y):\n",
        "  \n",
        "    return np.matrix([gradient_f(x,y)[0,0] + 10*gradient_g(x,y)[0,0], gradient_f(x,y)[0,1] + 10*gradient_g(x,y)[0,1]])"
      ],
      "metadata": {
        "id": "Hv283po2QsyC"
      },
      "id": "Hv283po2QsyC",
      "execution_count": null,
      "outputs": []
    },
    {
      "cell_type": "code",
      "execution_count": null,
      "id": "185aa787",
      "metadata": {
        "id": "185aa787"
      },
      "outputs": [],
      "source": [
        "def gradient_descent_Merit(f, point0x = 0.0, point0y = 0.0, max_iters = 100, treshold = 10**-3):\n",
        "\n",
        "    sol = np.matrix([point0x , point0y])\n",
        "    f_value = f(sol[0,0], sol[0,1])\n",
        "    steps = np.matrix(sol)\n",
        "\n",
        "    for i in range(max_iters):\n",
        "\n",
        "        alpha = 1\n",
        "        sol_aux = sol - alpha * gradient_Merit(sol[0,0], sol[0,1]) / np.linalg.norm(gradient_Merit(sol[0,0], sol[0,1]))\n",
        "        \n",
        "        while(f(sol_aux[0,0], sol_aux[0,1]) > f(sol[0,0], sol[0,1])):\n",
        "\n",
        "            alpha = alpha / 2\n",
        "            sol_aux = sol - alpha * gradient_Merit(sol[0,0], sol[0,1])\n",
        "\n",
        "        if (f(sol[0,0], sol[0,1]) - f(sol_aux[0,0], sol_aux[0,1])) < treshold:\n",
        "            \n",
        "            i -= 1\n",
        "\n",
        "            return sol\n",
        "            \n",
        "        sol = sol_aux.copy()\n",
        "        steps = np.vstack([steps, sol])\n",
        "        f_value = f(sol[0,0], sol[0,1])   \n",
        "    \n",
        "    return sol"
      ]
    },
    {
      "cell_type": "code",
      "execution_count": null,
      "id": "89a5c931",
      "metadata": {
        "colab": {
          "base_uri": "https://localhost:8080/"
        },
        "id": "89a5c931",
        "outputId": "10ab89f9-4011-4636-86ec-46e6bc3517d9"
      },
      "outputs": [
        {
          "output_type": "execute_result",
          "data": {
            "text/plain": [
              "matrix([[-0.47569926,  0.70337619]])"
            ]
          },
          "metadata": {},
          "execution_count": 48
        }
      ],
      "source": [
        "gradient_descent_Merit(Merit, point0x = 10, point0y = -20, max_iters = 100, treshold = 10**-3)"
      ]
    },
    {
      "cell_type": "code",
      "execution_count": null,
      "id": "9c9778ab",
      "metadata": {
        "colab": {
          "base_uri": "https://localhost:8080/"
        },
        "id": "9c9778ab",
        "outputId": "c1491bab-c030-4412-cf3b-9a004f7a25ad"
      },
      "outputs": [
        {
          "output_type": "execute_result",
          "data": {
            "text/plain": [
              "matrix([[-0.23657222,  0.49839641]])"
            ]
          },
          "metadata": {},
          "execution_count": 49
        }
      ],
      "source": [
        "gradient_descent_Merit(Merit, point0x = 15, point0y = -17, max_iters = 100, treshold = 10**-15)"
      ]
    },
    {
      "cell_type": "markdown",
      "id": "04bbe966",
      "metadata": {
        "id": "04bbe966"
      },
      "source": [
        "The algorithm works correctly for only one of the examples. The solution is not exact but approximately correct, with a small bias to the real solution.\n",
        "To find a good initial point for the \"Optimization\" algorithm, we can use the merit function, while penalizing infeasibility\n",
        "Therefore, using a merit function where we penalize a lot infeasibility is a good method to find a good initial point for the previous algorithm.\n",
        "Let's see how it works to use these points as intial points in the following section. "
      ]
    },
    {
      "cell_type": "markdown",
      "id": "b8fc29ce",
      "metadata": {
        "id": "b8fc29ce"
      },
      "source": [
        "#### 4. Implement first the Merit function to get an approximation of the point we are looking for and after that solution is found, use the Newton-based method to find the optimal solution."
      ]
    },
    {
      "cell_type": "markdown",
      "id": "50808ee7",
      "metadata": {
        "id": "50808ee7"
      },
      "source": [
        "Now, we will mix the Merit function and the Newton method, choosing the points accordingly to the gradient descent method applied on the merit function. Then, we will use the \"Optimization\" algorithm to find the real solution of the optimization problem."
      ]
    },
    {
      "cell_type": "code",
      "execution_count": null,
      "id": "999adc41",
      "metadata": {
        "id": "999adc41"
      },
      "outputs": [],
      "source": [
        "def Optimization_Upgrade(Merit, x0 = np.matrix([10, -20]), lambda0 = -1, Iter = 100):\n",
        "\n",
        "    x0 = gradient_descent_Merit(Merit, point0x = x0[0,0], point0y = x0[0,1], max_iters = Iter, treshold = 10**-3)\n",
        "    sol = Optimization(x0 = x0, Iter = Iter)\n",
        "    \n",
        "    return x0, sol"
      ]
    },
    {
      "cell_type": "code",
      "execution_count": null,
      "id": "16b1d5b2",
      "metadata": {
        "colab": {
          "base_uri": "https://localhost:8080/"
        },
        "id": "16b1d5b2",
        "outputId": "daea5e11-530a-4c53-fdf1-275d59cd62dd"
      },
      "outputs": [
        {
          "output_type": "execute_result",
          "data": {
            "text/plain": [
              "(matrix([[-0.10770015,  0.49801159]]),\n",
              " (8, matrix([[-0.74833549,  0.66332043]])))"
            ]
          },
          "metadata": {},
          "execution_count": 51
        }
      ],
      "source": [
        "Optimization_Upgrade(Merit, x0 = np.matrix([35, 55]))"
      ]
    },
    {
      "cell_type": "markdown",
      "id": "b6dce0c7",
      "metadata": {
        "id": "b6dce0c7"
      },
      "source": [
        "With the initial point (35, 55) the algorithm provides us the correct solution:\n",
        "It also provides us witth the number of iterations, starting points and approximated solution."
      ]
    },
    {
      "cell_type": "code",
      "execution_count": null,
      "id": "c385be9f",
      "metadata": {
        "colab": {
          "base_uri": "https://localhost:8080/"
        },
        "id": "c385be9f",
        "outputId": "342735f1-e085-442c-f14e-fbf8eb31d619"
      },
      "outputs": [
        {
          "output_type": "stream",
          "name": "stdout",
          "text": [
            "\n",
            "Initial point: [8, 2]\n",
            "Initial point found using gradient descent on Merit function: [[-0.09438169  0.54630267]].\n",
            "Solution: [[-0.74833549  0.66332043]]\n",
            "\n",
            "Initial point: [-5, 3]\n",
            "Initial point found using gradient descent on Merit function: [[-0.71157791  0.4291198 ]].\n",
            "Solution: [[-0.74833549  0.66332043]]\n",
            "\n",
            "Initial point: [-10, 0]\n",
            "Initial point found using gradient descent on Merit function: [[-0.99118837  0.12044943]].\n",
            "Solution: [[-0.74833549  0.66332043]]\n",
            "\n",
            "Initial point: [2, 4]\n",
            "Initial point found using gradient descent on Merit function: [[-0.06639242  0.87001063]].\n",
            "Solution: [[-0.74833549  0.66332043]]\n",
            "\n",
            "Initial point: [-4, -5]\n",
            "Initial point found using gradient descent on Merit function: [[-0.68096553  0.11910219]].\n",
            "Solution: [[-0.74833549  0.66332043]]\n"
          ]
        }
      ],
      "source": [
        "# Let's try ow with more values:\n",
        "\n",
        "points2 = [[8, 2], [-5, 3], [-10, 0], [2, 4], [-4, -5]]\n",
        "\n",
        "for p in points2:\n",
        "  \n",
        "    sol = Optimization_Upgrade(Merit, x0 = np.matrix(p), Iter = 100)\n",
        "    print('\\nInitial point: ' + str(p) + '\\nInitial point found using gradient descent on Merit function: ' + str(sol[0]) + '.\\nSolution: ' + str(sol[1][1]))"
      ]
    },
    {
      "cell_type": "markdown",
      "id": "c8582bd7",
      "metadata": {
        "id": "c8582bd7"
      },
      "source": [
        "All the close points found the right solution, because the merit function gives as a good point to start. Therefore, the merit function has improved the performance of our algorithm.\n",
        "\n",
        "We should now try with farther points."
      ]
    },
    {
      "cell_type": "code",
      "execution_count": null,
      "id": "f6812bc4",
      "metadata": {
        "id": "f6812bc4",
        "colab": {
          "base_uri": "https://localhost:8080/"
        },
        "outputId": "eddf81bc-4c9f-429f-c6cf-c80c9b2025f6"
      },
      "outputs": [
        {
          "output_type": "stream",
          "name": "stdout",
          "text": [
            "\n",
            "Initial point: [20, -20]\n",
            "Initial point found using gradient descent on Merit function: [[-0.78751718  0.05261548]].\n",
            "Solution: [[-0.74833549  0.66332043]]\n",
            "\n",
            "Initial point: [15, 26]\n",
            "Initial point found using gradient descent on Merit function: [[-0.10576867  0.64097129]].\n",
            "Solution: [[-0.74833549  0.66332043]]\n",
            "\n",
            "Initial point: [-10, -14]\n",
            "Initial point found using gradient descent on Merit function: [[-0.50789955  0.12188894]].\n",
            "Solution: [[ 0.91041323 -0.41370006]]\n",
            "\n",
            "Initial point: [7.5, 23]\n",
            "Initial point found using gradient descent on Merit function: [[-0.10143924  0.94261223]].\n",
            "Solution: [[-0.74833549  0.66332043]]\n",
            "\n",
            "Initial point: [-33, -50]\n",
            "Initial point found using gradient descent on Merit function: [[-0.9821518   0.12123287]].\n",
            "Solution: [[-0.74833549  0.66332043]]\n"
          ]
        }
      ],
      "source": [
        "# Let's try out with more values, this time a little bit futher from the solution:\n",
        "\n",
        "points3 = [[20, -20], [15, 26], [-10, -14], [7.5, 23], [-33, -50]]\n",
        "\n",
        "for p in points3:\n",
        "  \n",
        "    sol = Optimization_Upgrade(Merit, x0 = np.matrix(p), Iter = 100)\n",
        "    print('\\nInitial point: ' + str(p) + '\\nInitial point found using gradient descent on Merit function: ' + str(sol[0]) + '.\\nSolution: ' + str(sol[1][1]))"
      ]
    },
    {
      "cell_type": "markdown",
      "id": "f6a62f10",
      "metadata": {
        "id": "f6a62f10"
      },
      "source": [
        "Again, we prove that this method works even with very far points, with a very small bias compared to the real solution.\n",
        "Therefore, we can say it is a good method to use."
      ]
    },
    {
      "cell_type": "markdown",
      "source": [
        "# Optional: Minimizing the force applied to an object."
      ],
      "metadata": {
        "id": "oYaSqgRGWLXh"
      },
      "id": "oYaSqgRGWLXh"
    },
    {
      "cell_type": "markdown",
      "source": [
        "In this exercise, as it has been stated in class, we will make use of the Hamiltonian in order to find the minimum force we have to apply to an object to move it from position $x_0$ to $x_1$ in $T$ seconds.\n",
        "\n",
        "First of all, we need to declare the function and its physical restrictions, such that:\n",
        "\n",
        "$F=m \\cdot x^{\\prime\\prime} = m \\cdot v^{\\prime} = u$\n",
        "\n",
        "$\\begin{align*}\n",
        "x^\\prime &= v \\\\\n",
        "v' &= \\frac{u}{m}\n",
        "\\end{align*}\n",
        "$\n",
        "\n",
        "Once here, we need to build our Hamiltonian, which is compressed with the cost function we want to reduce, or minimize,($u$) and the constraints:\n",
        "\n",
        "$H = |u|^2 + \\lambda_1 v + \\lambda_2 \\frac{u}{m}$\n",
        "\n",
        "Now, with the Hamiltonian in our hands, we need to minimize it to find the desired force. Hence:\n",
        "\n",
        "$\\frac{\\partial H}{\\partial u} = 0 \\mapsto 2u + \\lambda_2 \\frac{1}{m} = 0 \\mapsto u = -\\lambda_2 \\frac{1}{2m}$\n",
        "\n",
        "As we are considering these constraints in our whole system, we also need to derivate them:\n",
        "\n",
        "$\\lambda_1^\\prime = -\\frac{\\partial H}{\\partial x} = 0 \\mapsto \\lambda_1 = k$\n",
        "\n",
        "$\\lambda_2^\\prime = -\\frac{\\partial H}{\\partial v} = -\\lambda_1 \\mapsto \\lambda_2 = -kt + c $\n",
        "\n",
        "Then, if we substitute these values in the previous expression of our $u$, we get:\n",
        "$u(t) = -\\lambda_2 \\frac{1}{2m} = \\frac{kt - c}{2m}$\n",
        "\n",
        "Therefore, integrating this function, we are able to find $v(t)$ and $x(t)$:\n",
        "\n",
        "$\n",
        "\\begin{align*}\n",
        "v(t) &= \\int \\frac{u(t)}{m} \\, \\mathrm{d}t = \\frac{1}{2m^2} \\int kt - c \\, \\mathrm{d}t \\\\\n",
        "&= \\frac{1}{2m^2} \\left( \\frac{1}{2} kt^2 - ct \\right) + C\n",
        "\\end{align*}\n",
        "$\n",
        "\n",
        "$\\begin{align*}\n",
        "x(t) &= \\int \\left( \\frac{1}{2m^2} \\left( \\frac{1}{2} kt^2 - ct \\right) + C \\right) \\, \\mathrm{d}t \\\\\n",
        "&= \\frac{1}{2m^2} \\int \\left( \\frac{1}{2} kt^2 - ct + C \\right) \\, \\mathrm{d}t + \\int C \\, \\mathrm{d}t \\\\\n",
        "&= \\frac{1}{2m^2} \\left( \\frac{1}{6} kt^3 - \\frac{1}{2} ct^2 +Ct \\right) + C'\n",
        "\\end{align*}\n",
        "$\n",
        "\n",
        "And finally, we can evaluate at the boundaries established in class, which were using $T=1$ and we know the final position is also equal to 1. \n",
        "\n",
        "$\n",
        "\\begin{align*}\n",
        "x(0) &= \\frac{1}{2m^2} \\left( \\frac{1}{6} k(0)^3 - \\frac{1}{2} c(0)^2 \\right) + C' = 0  &\\mapsto C'=0\\\\\n",
        "x(1) &= \\frac{1}{2m^2} \\left( \\frac{1}{6} k(1)^3 - \\frac{1}{2} c(1)^2 + C \\right) + C' = 1 &\\mapsto \\frac{1}{2m^2} \\left( \\frac{k}{6}- \\frac{c}{2} +C \\right ) = 1\\\\\n",
        "v(0) &= \\frac{1}{2m^2} \\left( \\frac{1}{2} k(0)^2 - c(0) \\right) + C = 0 &\\mapsto C = 0\\\\\n",
        "v(1) &= \\frac{1}{2m^2} \\left( \\frac{1}{2} k(1)^2 - c(1) \\right) + C = 0 &\\mapsto \\frac{1}{2m^2} \\left( \\frac{k}{2}- c \\right ) = 0 &\\mapsto c = \\frac{k}{2}\n",
        "\\end{align*}\n",
        "$\n",
        "\n",
        "$\n",
        "\\begin{align*}\n",
        "\\frac{1}{2m^2} \\left( \\frac{k}{6} - \\frac{k}{4} \\right) - 1 &= 0 \\\\\n",
        "\\frac{1}{2m^2} \\cdot \\frac{-k}{12} - 1 &= 0 \\\\\n",
        "k &= -24m^2\n",
        "\\end{align*}\n",
        "$\n",
        "\n",
        "So, finallly:\n",
        "\n",
        "$u(t) = \\frac{kt - c}{2m} =\\frac{-24m^2t}{2m} + \\frac{12m^2}{2m} = -12mt + 6m $\n",
        "\n",
        "\n"
      ],
      "metadata": {
        "id": "OiGpOFrZWNdb"
      },
      "id": "OiGpOFrZWNdb"
    },
    {
      "cell_type": "code",
      "source": [
        "import matplotlib.pyplot as plt\n",
        "import numpy as np\n",
        "\n",
        "m = [0.1, 0.5, 1]\n",
        "t = np.arange(0, 1.01, 0.01)\n",
        "\n",
        "for i in range(len(m)):\n",
        "    y = [-12 * m[i] * x + 6 * m[i] for x in t]\n",
        "    plt.plot(t, y, label=f'm={m[i]}')\n",
        "\n",
        "plt.xlabel('t')\n",
        "plt.ylabel('y')\n",
        "plt.legend()\n",
        "plt.show()\n"
      ],
      "metadata": {
        "colab": {
          "base_uri": "https://localhost:8080/",
          "height": 279
        },
        "id": "dzYyI1Q8coMp",
        "outputId": "64e3424d-c2d2-4988-eb58-cfd3b32f7961"
      },
      "id": "dzYyI1Q8coMp",
      "execution_count": 2,
      "outputs": [
        {
          "output_type": "display_data",
          "data": {
            "text/plain": [
              "<Figure size 432x288 with 1 Axes>"
            ],
            "image/png": "[encoded data removed]"
          },
          "metadata": {
            "needs_background": "light"
          }
        }
      ]
    },
    {
      "cell_type": "markdown",
      "source": [
        "This plot shows us the different force we need to apply at each second depending on the mass we must move from position $x_0$ to $x_1$ in 1 second!"
      ],
      "metadata": {
        "id": "VsJWwT9ucqiu"
      },
      "id": "VsJWwT9ucqiu"
    },
    {
      "cell_type": "code",
      "source": [],
      "metadata": {
        "id": "ur-tLzZtdY_c"
      },
      "id": "ur-tLzZtdY_c",
      "execution_count": null,
      "outputs": []
    }
  ],
  "metadata": {
    "colab": {
      "provenance": [],
      "collapsed_sections": [
        "46cae42e"
      ]
    },
    "kernelspec": {
      "display_name": "Python 3 (ipykernel)",
      "language": "python",
      "name": "python3"
    },
    "language_info": {
      "codemirror_mode": {
        "name": "ipython",
        "version": 3
      },
      "file_extension": ".py",
      "mimetype": "text/x-python",
      "name": "python",
      "nbconvert_exporter": "python",
      "pygments_lexer": "ipython3",
      "version": "3.9.7"
    }
  },
  "nbformat": 4,
  "nbformat_minor": 5
}