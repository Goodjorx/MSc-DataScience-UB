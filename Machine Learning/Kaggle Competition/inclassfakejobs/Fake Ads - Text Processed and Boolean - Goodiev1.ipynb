{
 "cells": [
  {
   "cell_type": "code",
   "execution_count": 19,
   "id": "6ae061c5",
   "metadata": {},
   "outputs": [
    {
     "name": "stderr",
     "output_type": "stream",
     "text": [
      "[nltk_data] Error loading stopwords: <urlopen error [Errno 11001]\n",
      "[nltk_data]     getaddrinfo failed>\n",
      "[nltk_data] Error loading wordnet: <urlopen error [Errno 11001]\n",
      "[nltk_data]     getaddrinfo failed>\n"
     ]
    },
    {
     "data": {
      "text/plain": [
       "False"
      ]
     },
     "execution_count": 19,
     "metadata": {},
     "output_type": "execute_result"
    }
   ],
   "source": [
    "import pandas as pd\n",
    "import numpy as np\n",
    "from pandas_profiling import ProfileReport\n",
    "import nltk # NLP\n",
    "import matplotlib.pyplot as plt\n",
    "from wordcloud import WordCloud # NL\n",
    "import string\n",
    "from nltk.corpus import stopwords\n",
    "import time\n",
    "#Models\n",
    "from sklearn.feature_extraction.text import TfidfVectorizer\n",
    "from sklearn.model_selection import GridSearchCV,train_test_split,StratifiedKFold,cross_val_score,learning_curve\n",
    "\n",
    "from sklearn.linear_model import LogisticRegression\n",
    "from sklearn.svm import SVC\n",
    "from sklearn.naive_bayes import MultinomialNB\n",
    "from sklearn.tree import DecisionTreeClassifier\n",
    "from sklearn.neighbors import KNeighborsClassifier\n",
    "from sklearn.ensemble import RandomForestClassifier\n",
    "from sklearn.metrics import accuracy_score, f1_score, ConfusionMatrixDisplay\n",
    "from xgboost import XGBClassifier\n",
    "from scipy.sparse import hstack # Concat multiple vectors?\n",
    "\n",
    "# !pip install wordcloud\n",
    "# !pip install pandas_profiling\n",
    "\n",
    "# NLP\n",
    "nltk.download('stopwords')\n",
    "nltk.download('wordnet')"
   ]
  },
  {
   "cell_type": "markdown",
   "id": "5545119a",
   "metadata": {},
   "source": [
    "## Preprocessing "
   ]
  },
  {
   "cell_type": "code",
   "execution_count": 2,
   "id": "2253443a",
   "metadata": {},
   "outputs": [],
   "source": [
    "df_train = pd.read_csv('./train.csv')\n",
    "df_test = pd.read_csv('./test.csv')\n",
    "df_train.columns = ['id', 'job_id', 'title', 'location', 'department', 'salary_range', 'company_profile', 'description', 'requirements','benefits','telecommuting', 'logo', 'questions', 'employment_type', 'required_experience', 'required_education', 'industry', 'function', 'doughnuts' , 'fraudulent']\n",
    "df_test.columns = ['id', 'job_id', 'title', 'location', 'department', 'salary_range', 'company_profile', 'description', 'requirements','benefits','telecommuting', 'logo', 'questions', 'employment_type', 'required_experience', 'required_education', 'industry', 'function', 'doughnuts']"
   ]
  },
  {
   "cell_type": "code",
   "execution_count": 3,
   "id": "7a22435f",
   "metadata": {},
   "outputs": [],
   "source": [
    "# FAST ANALYSIS OF DATA\n",
    "\n",
    "# profile = ProfileReport(train_df, title=\"Pandas Profiling Report TRAIN\")\n",
    "# profile.to_file(\"train.html\")\n",
    "# profile = ProfileReport(train_df.loc[train_df.fraudulent==1], title=\"Pandas Profiling Report FRAUDULENT TRAIN\")\n",
    "# profile.to_file(\"fraud_train.html\")"
   ]
  },
  {
   "cell_type": "markdown",
   "id": "a1eab830",
   "metadata": {},
   "source": [
    "### Clean NaN  "
   ]
  },
  {
   "cell_type": "markdown",
   "id": "37877b2d",
   "metadata": {},
   "source": [
    "#### TRAIN "
   ]
  },
  {
   "cell_type": "code",
   "execution_count": 4,
   "id": "dcd40e9e",
   "metadata": {},
   "outputs": [],
   "source": [
    "# We save a dataframe with all the fraudulent values\n",
    "subset_frau = df_train[df_train['fraudulent'] == 1]  \n",
    "subset_frau=subset_frau.drop([\"id\", \"job_id\", \"doughnuts\"], axis=1)\n"
   ]
  },
  {
   "cell_type": "code",
   "execution_count": 5,
   "id": "c7431c4a",
   "metadata": {},
   "outputs": [
    {
     "data": {
      "text/plain": [
       "array(['salary_range'], dtype=object)"
      ]
     },
     "execution_count": 5,
     "metadata": {},
     "output_type": "execute_result"
    }
   ],
   "source": [
    "df_train=df_train.drop([\"id\", \"job_id\", \"doughnuts\"], axis=1)\n",
    "df_train=df_train.dropna(axis=0, thresh=8)\n",
    "df_train=df_train.dropna(axis=1, thresh=0.35*df_train.shape[0])\n",
    "np.setdiff1d(subset_frau.columns, df_train.columns) # What columns have we deleted?"
   ]
  },
  {
   "cell_type": "code",
   "execution_count": 6,
   "id": "7b20b78c",
   "metadata": {},
   "outputs": [
    {
     "name": "stdout",
     "output_type": "stream",
     "text": [
      "Shape of Nan processed train DF (11039, 16)\n"
     ]
    },
    {
     "data": {
      "text/html": [
       "<div>\n",
       "<style scoped>\n",
       "    .dataframe tbody tr th:only-of-type {\n",
       "        vertical-align: middle;\n",
       "    }\n",
       "\n",
       "    .dataframe tbody tr th {\n",
       "        vertical-align: top;\n",
       "    }\n",
       "\n",
       "    .dataframe thead th {\n",
       "        text-align: right;\n",
       "    }\n",
       "</style>\n",
       "<table border=\"1\" class=\"dataframe\">\n",
       "  <thead>\n",
       "    <tr style=\"text-align: right;\">\n",
       "      <th></th>\n",
       "      <th>title</th>\n",
       "      <th>location</th>\n",
       "      <th>department</th>\n",
       "      <th>company_profile</th>\n",
       "      <th>description</th>\n",
       "      <th>requirements</th>\n",
       "      <th>benefits</th>\n",
       "      <th>telecommuting</th>\n",
       "      <th>logo</th>\n",
       "      <th>questions</th>\n",
       "      <th>employment_type</th>\n",
       "      <th>required_experience</th>\n",
       "      <th>required_education</th>\n",
       "      <th>industry</th>\n",
       "      <th>function</th>\n",
       "      <th>fraudulent</th>\n",
       "    </tr>\n",
       "  </thead>\n",
       "  <tbody>\n",
       "    <tr>\n",
       "      <th>1388</th>\n",
       "      <td>Recovery Specialist</td>\n",
       "      <td>US, NV, Las Vegas</td>\n",
       "      <td>NaN</td>\n",
       "      <td>Tidewater Finance Co. was established in 1992 ...</td>\n",
       "      <td>Tidewater Finance Company is seeking full-time...</td>\n",
       "      <td>The qualifications for this position include: ...</td>\n",
       "      <td>We offer a competitive salary as well as a com...</td>\n",
       "      <td>0</td>\n",
       "      <td>1</td>\n",
       "      <td>1</td>\n",
       "      <td>Full-time</td>\n",
       "      <td>Associate</td>\n",
       "      <td>Unspecified</td>\n",
       "      <td>Financial Services</td>\n",
       "      <td>Customer Service</td>\n",
       "      <td>0</td>\n",
       "    </tr>\n",
       "    <tr>\n",
       "      <th>4454</th>\n",
       "      <td>Human Resource Director</td>\n",
       "      <td>US, TX, AUSTIN</td>\n",
       "      <td>HR</td>\n",
       "      <td>As the industry’s largest supply contracting c...</td>\n",
       "      <td>HR responsibilities for assigned client groups...</td>\n",
       "      <td>Minimum of 6 Months corporate Human Resources...</td>\n",
       "      <td>ALL BENEFITS</td>\n",
       "      <td>0</td>\n",
       "      <td>1</td>\n",
       "      <td>1</td>\n",
       "      <td>Full-time</td>\n",
       "      <td>Director</td>\n",
       "      <td>High School or equivalent</td>\n",
       "      <td>Human Resources</td>\n",
       "      <td>Human Resources</td>\n",
       "      <td>1</td>\n",
       "    </tr>\n",
       "    <tr>\n",
       "      <th>5848</th>\n",
       "      <td>VP of Engineering</td>\n",
       "      <td>US, MI, Detroit</td>\n",
       "      <td>NaN</td>\n",
       "      <td>NaN</td>\n",
       "      <td>A VP of Engineering is responsible for all pro...</td>\n",
       "      <td>Experience:-2+ years Project Management experi...</td>\n",
       "      <td>NaN</td>\n",
       "      <td>0</td>\n",
       "      <td>0</td>\n",
       "      <td>1</td>\n",
       "      <td>Full-time</td>\n",
       "      <td>Director</td>\n",
       "      <td>Bachelor's Degree</td>\n",
       "      <td>NaN</td>\n",
       "      <td>NaN</td>\n",
       "      <td>0</td>\n",
       "    </tr>\n",
       "  </tbody>\n",
       "</table>\n",
       "</div>"
      ],
      "text/plain": [
       "                        title           location department  \\\n",
       "1388      Recovery Specialist  US, NV, Las Vegas        NaN   \n",
       "4454  Human Resource Director     US, TX, AUSTIN         HR   \n",
       "5848       VP of Engineering     US, MI, Detroit        NaN   \n",
       "\n",
       "                                        company_profile  \\\n",
       "1388  Tidewater Finance Co. was established in 1992 ...   \n",
       "4454  As the industry’s largest supply contracting c...   \n",
       "5848                                                NaN   \n",
       "\n",
       "                                            description  \\\n",
       "1388  Tidewater Finance Company is seeking full-time...   \n",
       "4454  HR responsibilities for assigned client groups...   \n",
       "5848  A VP of Engineering is responsible for all pro...   \n",
       "\n",
       "                                           requirements  \\\n",
       "1388  The qualifications for this position include: ...   \n",
       "4454   Minimum of 6 Months corporate Human Resources...   \n",
       "5848  Experience:-2+ years Project Management experi...   \n",
       "\n",
       "                                               benefits  telecommuting  logo  \\\n",
       "1388  We offer a competitive salary as well as a com...              0     1   \n",
       "4454                                       ALL BENEFITS              0     1   \n",
       "5848                                                NaN              0     0   \n",
       "\n",
       "      questions employment_type required_experience  \\\n",
       "1388          1       Full-time           Associate   \n",
       "4454          1       Full-time            Director   \n",
       "5848          1       Full-time            Director   \n",
       "\n",
       "             required_education            industry          function  \\\n",
       "1388                Unspecified  Financial Services  Customer Service   \n",
       "4454  High School or equivalent     Human Resources   Human Resources   \n",
       "5848          Bachelor's Degree                 NaN               NaN   \n",
       "\n",
       "      fraudulent  \n",
       "1388           0  \n",
       "4454           1  \n",
       "5848           0  "
      ]
     },
     "execution_count": 6,
     "metadata": {},
     "output_type": "execute_result"
    }
   ],
   "source": [
    "subset_frau=subset_frau.drop([\"salary_range\"], axis=1)\n",
    "df_train=pd.concat([df_train, subset_frau])\n",
    "print(f'Shape of Nan processed train DF {df_train.shape}')\n",
    "df_train.sample(3)"
   ]
  },
  {
   "cell_type": "code",
   "execution_count": 7,
   "id": "31647e76",
   "metadata": {},
   "outputs": [
    {
     "data": {
      "text/html": [
       "<div>\n",
       "<style scoped>\n",
       "    .dataframe tbody tr th:only-of-type {\n",
       "        vertical-align: middle;\n",
       "    }\n",
       "\n",
       "    .dataframe tbody tr th {\n",
       "        vertical-align: top;\n",
       "    }\n",
       "\n",
       "    .dataframe thead th {\n",
       "        text-align: right;\n",
       "    }\n",
       "</style>\n",
       "<table border=\"1\" class=\"dataframe\">\n",
       "  <thead>\n",
       "    <tr style=\"text-align: right;\">\n",
       "      <th></th>\n",
       "      <th>title</th>\n",
       "      <th>location</th>\n",
       "      <th>department</th>\n",
       "      <th>company_profile</th>\n",
       "      <th>description</th>\n",
       "      <th>requirements</th>\n",
       "      <th>benefits</th>\n",
       "      <th>telecommuting</th>\n",
       "      <th>logo</th>\n",
       "      <th>questions</th>\n",
       "      <th>employment_type</th>\n",
       "      <th>required_experience</th>\n",
       "      <th>required_education</th>\n",
       "      <th>industry</th>\n",
       "      <th>function</th>\n",
       "      <th>fraudulent</th>\n",
       "    </tr>\n",
       "  </thead>\n",
       "  <tbody>\n",
       "    <tr>\n",
       "      <th>4923</th>\n",
       "      <td>Southport Admin Assistant Apprenticeship Under...</td>\n",
       "      <td>GB, , Southport</td>\n",
       "      <td>Unknown department</td>\n",
       "      <td>Established on the principles that full time e...</td>\n",
       "      <td>Government funding is only available for 16-1...</td>\n",
       "      <td>Full time availability.16-18 year olds only du...</td>\n",
       "      <td>Career prospects.</td>\n",
       "      <td>0</td>\n",
       "      <td>1</td>\n",
       "      <td>1</td>\n",
       "      <td>Full-time</td>\n",
       "      <td>Not Applicable</td>\n",
       "      <td>High School or equivalent</td>\n",
       "      <td>Unknown industry</td>\n",
       "      <td>Administrative</td>\n",
       "      <td>0</td>\n",
       "    </tr>\n",
       "    <tr>\n",
       "      <th>8160</th>\n",
       "      <td>Web developer/Sviluppatore web (Ruby, PHP)</td>\n",
       "      <td>IT, 25, Milano</td>\n",
       "      <td>Unknown department</td>\n",
       "      <td>Xpitality was created by its partners who have...</td>\n",
       "      <td>Xpitality Srl, a Milan-based company specializ...</td>\n",
       "      <td>Required skills and competenciesStrong knowled...</td>\n",
       "      <td>A chance to contribute to the development of a...</td>\n",
       "      <td>0</td>\n",
       "      <td>1</td>\n",
       "      <td>1</td>\n",
       "      <td>Full-time</td>\n",
       "      <td>Unknown required_experience</td>\n",
       "      <td>Bachelor's Degree</td>\n",
       "      <td>Information Technology and Services</td>\n",
       "      <td>Information Technology</td>\n",
       "      <td>0</td>\n",
       "    </tr>\n",
       "    <tr>\n",
       "      <th>8169</th>\n",
       "      <td>Interaction / Interface Designer</td>\n",
       "      <td>US, CA, San Francisco</td>\n",
       "      <td>Design</td>\n",
       "      <td>Making Quality Metrics ActionableWe are revolu...</td>\n",
       "      <td>We are looking for designers committed to savi...</td>\n",
       "      <td>Bachelors or Masters degree in human computer ...</td>\n",
       "      <td>Insurance reimbursement up to $1000+/mo (depen...</td>\n",
       "      <td>0</td>\n",
       "      <td>1</td>\n",
       "      <td>0</td>\n",
       "      <td>Full-time</td>\n",
       "      <td>Mid-Senior level</td>\n",
       "      <td>Unknown required_education</td>\n",
       "      <td>Internet</td>\n",
       "      <td>Design</td>\n",
       "      <td>0</td>\n",
       "    </tr>\n",
       "  </tbody>\n",
       "</table>\n",
       "</div>"
      ],
      "text/plain": [
       "                                                  title  \\\n",
       "4923  Southport Admin Assistant Apprenticeship Under...   \n",
       "8160         Web developer/Sviluppatore web (Ruby, PHP)   \n",
       "8169                   Interaction / Interface Designer   \n",
       "\n",
       "                   location          department  \\\n",
       "4923        GB, , Southport  Unknown department   \n",
       "8160         IT, 25, Milano  Unknown department   \n",
       "8169  US, CA, San Francisco              Design   \n",
       "\n",
       "                                        company_profile  \\\n",
       "4923  Established on the principles that full time e...   \n",
       "8160  Xpitality was created by its partners who have...   \n",
       "8169  Making Quality Metrics ActionableWe are revolu...   \n",
       "\n",
       "                                            description  \\\n",
       "4923   Government funding is only available for 16-1...   \n",
       "8160  Xpitality Srl, a Milan-based company specializ...   \n",
       "8169  We are looking for designers committed to savi...   \n",
       "\n",
       "                                           requirements  \\\n",
       "4923  Full time availability.16-18 year olds only du...   \n",
       "8160  Required skills and competenciesStrong knowled...   \n",
       "8169  Bachelors or Masters degree in human computer ...   \n",
       "\n",
       "                                               benefits  telecommuting  logo  \\\n",
       "4923                                  Career prospects.              0     1   \n",
       "8160  A chance to contribute to the development of a...              0     1   \n",
       "8169  Insurance reimbursement up to $1000+/mo (depen...              0     1   \n",
       "\n",
       "      questions employment_type          required_experience  \\\n",
       "4923          1       Full-time               Not Applicable   \n",
       "8160          1       Full-time  Unknown required_experience   \n",
       "8169          0       Full-time             Mid-Senior level   \n",
       "\n",
       "              required_education                             industry  \\\n",
       "4923   High School or equivalent                     Unknown industry   \n",
       "8160           Bachelor's Degree  Information Technology and Services   \n",
       "8169  Unknown required_education                             Internet   \n",
       "\n",
       "                    function  fraudulent  \n",
       "4923          Administrative           0  \n",
       "8160  Information Technology           0  \n",
       "8169                  Design           0  "
      ]
     },
     "execution_count": 7,
     "metadata": {},
     "output_type": "execute_result"
    }
   ],
   "source": [
    "# NaN for Unkown {category}\n",
    "for (columnName, columnData) in df_train.iteritems():\n",
    "    name=\"Unknown {}\".format(columnName)\n",
    "    df_train[columnName] = df_train[columnName].replace(np.nan,name)\n",
    "df_train.sample(3)"
   ]
  },
  {
   "cell_type": "markdown",
   "id": "8246c3a5",
   "metadata": {},
   "source": [
    "#### TEST "
   ]
  },
  {
   "cell_type": "code",
   "execution_count": 8,
   "id": "c085b0f2",
   "metadata": {},
   "outputs": [],
   "source": [
    "df_test=df_test.drop([\"id\", \"job_id\", \"doughnuts\"], axis=1)\n",
    "df_test=df_test.drop([\"salary_range\"], axis=1)\n",
    "\n",
    "for (columnName, columnData) in df_test.iteritems():\n",
    "    name=\"Unknown {}\".format(columnName)\n",
    "    df_test[columnName] = df_test[columnName].replace(np.nan,name)"
   ]
  },
  {
   "cell_type": "markdown",
   "id": "24dcce6c",
   "metadata": {},
   "source": [
    "## Text Analysis "
   ]
  },
  {
   "cell_type": "markdown",
   "id": "edd5fc0b",
   "metadata": {},
   "source": [
    "We first need to process our text to eliminate commas, points and all this useless stuff for our model!"
   ]
  },
  {
   "cell_type": "code",
   "execution_count": 9,
   "id": "8a9627ff",
   "metadata": {},
   "outputs": [],
   "source": [
    "def text_process(text, lower=False):\n",
    "    \"\"\"text.translate(str.maketrans(string.punctuation, ' ' * len(string.punctuation)))\n",
    "        translated any punctuation within text to whitespace, so using replace(' '*4, ' ') \n",
    "        is to replace 4 consecutive whitespace to single one, replace(' '*3, ' ')\n",
    "        from 3 to 1, and so on; then strip to eliminate the whitespaces before & after.\n",
    "\n",
    "     NECESSARY TO DO THINGS LIKE: Requirements/Qualifications:1 year -> Requirements Qualification 1 year \n",
    "    \"\"\"\n",
    "    text = text.translate(\n",
    "    str.maketrans(string.punctuation, ' ' * len(string.punctuation))).replace(\n",
    "    ' '*4, ' ').replace(' '*3, ' ').replace(' '*2, ' ').strip()\n",
    "    # Eliminates the stopwords useless for our model\n",
    "    if lower:\n",
    "        text = [word.lower() for word in text.split() if word.lower() not in stopwords.words('english')]\n",
    "    else:\n",
    "        text = [word for word in text.split() if word.lower() not in stopwords.words('english')]\n",
    "\n",
    "    return \" \".join(text)"
   ]
  },
  {
   "cell_type": "code",
   "execution_count": 10,
   "id": "066fbe65",
   "metadata": {},
   "outputs": [],
   "source": [
    "def wordcloud(df, size=(10,7)):\n",
    "    \"\"\"\n",
    "    Computes the WordCloud of a column of dataframe or saying it in another way, of text values.\n",
    "    \"\"\"\n",
    "    titles_ls = [text for text in df]\n",
    "    real_all_words = ' '.join(df)\n",
    "    wordcloud_real = WordCloud(background_color='white',\n",
    "        width= 800, height= 500,\n",
    "        max_font_size = 180,\n",
    "        collocations = False).generate(real_all_words)\n",
    "\n",
    "    plt.figure(figsize=(10,7))\n",
    "    plt.imshow(wordcloud_real, interpolation='bilinear')\n",
    "    plt.axis(\"off\")\n",
    "    plt.show()\n",
    "    return wordcloud_real"
   ]
  },
  {
   "cell_type": "markdown",
   "id": "88602e9a",
   "metadata": {},
   "source": [
    "Let's process for the train and test data!"
   ]
  },
  {
   "cell_type": "code",
   "execution_count": 13,
   "id": "fbe55aef",
   "metadata": {},
   "outputs": [
    {
     "name": "stdout",
     "output_type": "stream",
     "text": [
      "title processed.\n",
      "location processed.\n",
      "department processed.\n",
      "company_profile processed.\n",
      "description processed.\n",
      "requirements processed.\n",
      "benefits processed.\n",
      "industry processed.\n",
      "function processed.\n",
      "938.7711219787598 seconds to compute ['title', 'location', 'department', 'company_profile', 'description', 'requirements', 'benefits', 'industry', 'function']\n"
     ]
    }
   ],
   "source": [
    "start = time.time()\n",
    "df_train_proc = pd.DataFrame()\n",
    "cols = ['title', 'location', 'department', 'company_profile', 'description', 'requirements', \n",
    "            'benefits', 'industry', 'function']\n",
    "for col in cols:\n",
    "    df_train_proc[col] = df_train[col].apply(text_process)\n",
    "    print(f'{col} processed.')\n",
    "end = time.time()\n",
    "print(f'{end-start} seconds to compute {cols}')"
   ]
  },
  {
   "cell_type": "code",
   "execution_count": 15,
   "id": "c952349f",
   "metadata": {
    "scrolled": true
   },
   "outputs": [
    {
     "name": "stdout",
     "output_type": "stream",
     "text": [
      "title processed.\n",
      "location processed.\n",
      "department processed.\n",
      "company_profile processed.\n",
      "description processed.\n",
      "requirements processed.\n",
      "benefits processed.\n",
      "industry processed.\n",
      "function processed.\n",
      "593.6556749343872 seconds to compute ['title', 'location', 'department', 'company_profile', 'description', 'requirements', 'benefits', 'industry', 'function']\n"
     ]
    }
   ],
   "source": [
    "start = time.time()\n",
    "df_test_proc = pd.DataFrame()\n",
    "cols = ['title', 'location', 'department', 'company_profile', 'description', 'requirements', \n",
    "            'benefits', 'industry', 'function']\n",
    "for col in cols:\n",
    "    df_test_proc[col] = df_test[col].apply(text_process)\n",
    "    print(f'{col} processed.')\n",
    "end = time.time()\n",
    "print(f'{end-start} seconds to compute {cols}')"
   ]
  },
  {
   "cell_type": "code",
   "execution_count": 17,
   "id": "afccd2a9",
   "metadata": {},
   "outputs": [],
   "source": [
    "df_train_proc.to_csv('train_text_processed_ALL.csv')\n",
    "df_test_proc.to_csv('test_text_processed_ALL.csv') # Only 6 [title, dpt, benefits, industry, function, company_profile]"
   ]
  },
  {
   "cell_type": "markdown",
   "id": "2d8a3f19",
   "metadata": {},
   "source": [
    "### Split dataset "
   ]
  },
  {
   "cell_type": "code",
   "execution_count": 20,
   "id": "1a206e49",
   "metadata": {},
   "outputs": [],
   "source": [
    "selected_cols = ['title', 'industry', 'function', 'department', 'company_profile']\n",
    "df_train_selected = df_train_proc[selected_cols]\n",
    "X = df_train_selected\n",
    "y = df_train.fraudulent\n",
    "X_train, X_valid, y_train, y_valid = train_test_split(X,y,test_size=0.3, random_state=42)"
   ]
  },
  {
   "cell_type": "code",
   "execution_count": 31,
   "id": "dd0e7235",
   "metadata": {},
   "outputs": [
    {
     "name": "stdout",
     "output_type": "stream",
     "text": [
      "title / Uknown: 0 11039\n",
      "industry / Uknown: 2906 11039\n",
      "function / Uknown: 3876 11039\n",
      "department / Uknown: 7134 11039\n",
      "company_profile / Uknown: 2170 11039\n"
     ]
    }
   ],
   "source": [
    "# How many Unkown for col\n",
    "for col in selected_cols:\n",
    "    name = f'Unknown {col}'\n",
    "    print(f'{col} / Uknown: {df_train[df_train[col]==name].shape[0]}', df_train[col].shape[0] )"
   ]
  },
  {
   "cell_type": "markdown",
   "id": "fd5d265a",
   "metadata": {},
   "source": [
    "### Vectorize  "
   ]
  },
  {
   "cell_type": "code",
   "execution_count": 119,
   "id": "25b94b72",
   "metadata": {},
   "outputs": [],
   "source": [
    "def vectorize_df(df, fit=False, vectorizer_cols=None, max_features=0, ngram_range=(1,1)):\n",
    "    vector_cols = {} # Create a dict with all columns vectors stored in its matrixes\n",
    "    if fit: vectorizer_cols = {} # Vectorizer learns from one column only. MUST DO IT one by one. FIT PHASE.\n",
    "    \n",
    "    for col in df.columns:\n",
    "        if fit:\n",
    "#             print('Fitting and Transforming')\n",
    "            vectorizer = TfidfVectorizer(stop_words='english', ngram_range=ngram_range)\n",
    "            vectors_col = vectorizer.fit_transform(df[col])\n",
    "            vectorizer_cols[col] = vectorizer # Store the specific vectorizer.\n",
    "        else:\n",
    "#             print('Transforming')\n",
    "            vectors_col = vectorizer_cols[col].transform(df[col]) # Transform with the vectorizer which we've learnt.\n",
    "            \n",
    "        vector_cols[col] = vectors_col\n",
    "        \n",
    "    # Stack together all matrixes in one.\n",
    "#     try:\n",
    "#         del vectors\n",
    "#     except:\n",
    "#         print('Deleted past vectors')\n",
    "    for i, col in enumerate(vector_cols.keys()):\n",
    "        if i==0:\n",
    "            vectors = hstack([vector_cols[col], vector_cols[list(vector_cols.keys())[i+1]]]) # Stack first and second\n",
    "        else:\n",
    "            try:\n",
    "                vectors = hstack([vectors, vector_cols[list(vector_cols.keys())[i+1]]]) # Stack the previous stack with next el.\n",
    "            except Exception as e:\n",
    "#                 print(col, i, e) # Out of Range, lazy to put another if\n",
    "                break\n",
    "    return vectors, vectorizer_cols"
   ]
  },
  {
   "cell_type": "markdown",
   "id": "1cc56731",
   "metadata": {},
   "source": [
    "We will try it with a few columns first, the ones we've seen have the more correlation and might better behave! These features are:\n",
    "* Title\n",
    "* Industry 1:(Oil/Energy/Accounting)\n",
    "* Function 1:(Administrative) ; 0:(Information/Tech)\n",
    "* Dept 1:(Clerical, Engineering)\n",
    "* Company Profile: (Service/Candidate) !Be careful with Unkwnown here!\n"
   ]
  },
  {
   "cell_type": "code",
   "execution_count": 120,
   "id": "2708bcd6",
   "metadata": {},
   "outputs": [],
   "source": [
    "train_vectors, vectorizer = vectorize_df(X_train, fit=True)"
   ]
  },
  {
   "cell_type": "code",
   "execution_count": 1,
   "id": "32f5eb3f",
   "metadata": {},
   "outputs": [
    {
     "ename": "NameError",
     "evalue": "name 'train_vectors' is not defined",
     "output_type": "error",
     "traceback": [
      "\u001b[1;31m---------------------------------------------------------------------------\u001b[0m",
      "\u001b[1;31mNameError\u001b[0m                                 Traceback (most recent call last)",
      "Input \u001b[1;32mIn [1]\u001b[0m, in \u001b[0;36m<cell line: 1>\u001b[1;34m()\u001b[0m\n\u001b[1;32m----> 1\u001b[0m \u001b[43mtrain_vectors\u001b[49m\u001b[38;5;241m.\u001b[39mshape\n",
      "\u001b[1;31mNameError\u001b[0m: name 'train_vectors' is not defined"
     ]
    }
   ],
   "source": [
    "train_vectors.shape"
   ]
  },
  {
   "cell_type": "code",
   "execution_count": 122,
   "id": "ff051672",
   "metadata": {},
   "outputs": [],
   "source": [
    "valid_vectors, _ = vectorize_df(X_valid, fit=False, vectorizer_cols=vectorizer)"
   ]
  },
  {
   "cell_type": "code",
   "execution_count": 123,
   "id": "050c40d3",
   "metadata": {},
   "outputs": [
    {
     "data": {
      "text/plain": [
       "(3312, 16877)"
      ]
     },
     "execution_count": 123,
     "metadata": {},
     "output_type": "execute_result"
    }
   ],
   "source": [
    "valid_vectors.shape"
   ]
  },
  {
   "cell_type": "markdown",
   "id": "1f06bdcd",
   "metadata": {},
   "source": [
    "## MODELING"
   ]
  },
  {
   "cell_type": "code",
   "execution_count": 125,
   "id": "a3aae948",
   "metadata": {},
   "outputs": [
    {
     "data": {
      "text/plain": [
       "GridSearchCV(cv=5,\n",
       "             estimator=XGBClassifier(base_score=None, booster=None,\n",
       "                                     callbacks=None, colsample_bylevel=None,\n",
       "                                     colsample_bynode=None,\n",
       "                                     colsample_bytree=None,\n",
       "                                     early_stopping_rounds=None,\n",
       "                                     enable_categorical=False, eval_metric=None,\n",
       "                                     gamma=None, gpu_id=None, grow_policy=None,\n",
       "                                     importance_type=None,\n",
       "                                     interaction_constraints=None,\n",
       "                                     learning_rate=None, max_bin=None,\n",
       "                                     max_ca...nehot=None,\n",
       "                                     max_delta_step=None, max_depth=None,\n",
       "                                     max_leaves=None, min_child_weight=None,\n",
       "                                     missing=nan, monotone_constraints=None,\n",
       "                                     n_estimators=100, n_jobs=None,\n",
       "                                     num_parallel_tree=None, predictor=None,\n",
       "                                     random_state=42, reg_alpha=None,\n",
       "                                     reg_lambda=None, ...),\n",
       "             n_jobs=-1,\n",
       "             param_grid={'learning_rate': (0.25, 0.15), 'max_depth': [3, 6, 9],\n",
       "                         'min_child_weight': [1, 3]},\n",
       "             scoring='f1')"
      ]
     },
     "execution_count": 125,
     "metadata": {},
     "output_type": "execute_result"
    }
   ],
   "source": [
    "gsc = GridSearchCV(\n",
    "            estimator=XGBClassifier(random_state=42),\n",
    "            param_grid={\"learning_rate\": (0.25, 0.15),\n",
    "                        \"max_depth\": [3, 6, 9],\n",
    "                        \"min_child_weight\": [ 1, 3]},\n",
    "            cv=5, scoring='f1', verbose=0, n_jobs=-1)\n",
    "gsc.fit(train_vectors, y_train)"
   ]
  },
  {
   "cell_type": "code",
   "execution_count": 127,
   "id": "73b69041",
   "metadata": {},
   "outputs": [
    {
     "data": {
      "text/plain": [
       "<sklearn.metrics._plot.confusion_matrix.ConfusionMatrixDisplay at 0x1eff629e3a0>"
      ]
     },
     "execution_count": 127,
     "metadata": {},
     "output_type": "execute_result"
    },
    {
     "data": {
      "image/png": "[encoded data removed]",
      "text/plain": [
       "<Figure size 640x480 with 2 Axes>"
      ]
     },
     "metadata": {},
     "output_type": "display_data"
    }
   ],
   "source": [
    "ConfusionMatrixDisplay.from_estimator(gsc, valid_vectors, y_valid)"
   ]
  },
  {
   "cell_type": "code",
   "execution_count": 129,
   "id": "0ffe2573",
   "metadata": {},
   "outputs": [
    {
     "data": {
      "text/plain": [
       "0.881118881118881"
      ]
     },
     "execution_count": 129,
     "metadata": {},
     "output_type": "execute_result"
    }
   ],
   "source": [
    "f1_score(y_valid, gsc.predict(valid_vectors))"
   ]
  },
  {
   "cell_type": "markdown",
   "id": "f9a543c0",
   "metadata": {},
   "source": [
    "### PREPARE TEST "
   ]
  },
  {
   "cell_type": "code",
   "execution_count": 134,
   "id": "ed056380",
   "metadata": {},
   "outputs": [],
   "source": [
    "X_test = df_test_proc[selected_cols]"
   ]
  },
  {
   "cell_type": "code",
   "execution_count": 135,
   "id": "69c130ac",
   "metadata": {},
   "outputs": [],
   "source": [
    "test_vectors, _ = vectorize_df(X_test, fit=False, vectorizer_cols=vectorizer)"
   ]
  },
  {
   "cell_type": "code",
   "execution_count": 137,
   "id": "05290447",
   "metadata": {},
   "outputs": [
    {
     "data": {
      "text/plain": [
       "((7152, 16877), (7152, 5))"
      ]
     },
     "execution_count": 137,
     "metadata": {},
     "output_type": "execute_result"
    }
   ],
   "source": [
    "test_vectors.shape, X_test.shape"
   ]
  },
  {
   "cell_type": "code",
   "execution_count": 138,
   "id": "6f9df6b7",
   "metadata": {},
   "outputs": [],
   "source": [
    "yhat = gsc.predict(test_vectors)\n",
    "#Saving the prediction in the Kaggle format.\n",
    "d = {'Id': range(len(yhat)), 'Category': yhat.astype(int)}\n",
    "df = pd.DataFrame(data=d)\n",
    "df.to_csv('submission.csv',index=False)"
   ]
  },
  {
   "cell_type": "markdown",
   "id": "5080e2ac",
   "metadata": {},
   "source": [
    "YES! Good result with only text. Might get better with:\n",
    "* Questions\n",
    "* Logo Company"
   ]
  },
  {
   "cell_type": "code",
   "execution_count": null,
   "id": "b8171617",
   "metadata": {},
   "outputs": [],
   "source": []
  }
 ],
 "metadata": {
  "kernelspec": {
   "display_name": "Python 3 (ipykernel)",
   "language": "python",
   "name": "python3"
  },
  "language_info": {
   "codemirror_mode": {
    "name": "ipython",
    "version": 3
   },
   "file_extension": ".py",
   "mimetype": "text/x-python",
   "name": "python",
   "nbconvert_exporter": "python",
   "pygments_lexer": "ipython3",
   "version": "3.9.12"
  }
 },
 "nbformat": 4,
 "nbformat_minor": 5
}
