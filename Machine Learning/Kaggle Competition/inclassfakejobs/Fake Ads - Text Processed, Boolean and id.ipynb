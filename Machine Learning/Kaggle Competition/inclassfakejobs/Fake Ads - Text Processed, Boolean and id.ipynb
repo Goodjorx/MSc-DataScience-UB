{
 "cells": [
  {
   "cell_type": "code",
   "execution_count": 1,
   "id": "6ae061c5",
   "metadata": {},
   "outputs": [
    {
     "name": "stderr",
     "output_type": "stream",
     "text": [
      "[nltk_data] Downloading package stopwords to\n",
      "[nltk_data]     C:\\Users\\Goodie\\AppData\\Roaming\\nltk_data...\n",
      "[nltk_data]   Package stopwords is already up-to-date!\n",
      "[nltk_data] Downloading package wordnet to\n",
      "[nltk_data]     C:\\Users\\Goodie\\AppData\\Roaming\\nltk_data...\n",
      "[nltk_data]   Package wordnet is already up-to-date!\n"
     ]
    },
    {
     "data": {
      "text/plain": [
       "True"
      ]
     },
     "execution_count": 1,
     "metadata": {},
     "output_type": "execute_result"
    }
   ],
   "source": [
    "#!pip install wordcloud\n",
    "#!pip install pandas_profiling\n",
    "#!pip install imbalanced-learn\n",
    "import pandas as pd\n",
    "import numpy as np\n",
    "from pandas_profiling import ProfileReport\n",
    "import nltk # NLP\n",
    "import matplotlib.pyplot as plt\n",
    "from wordcloud import WordCloud # NL\n",
    "import string\n",
    "from nltk.corpus import stopwords\n",
    "import time\n",
    "import copy\n",
    "#Models\n",
    "from sklearn.feature_extraction.text import TfidfVectorizer\n",
    "from sklearn.model_selection import GridSearchCV,train_test_split,KFold,StratifiedKFold,cross_val_score,learning_curve\n",
    "from sklearn.utils import class_weight\n",
    "from sklearn.preprocessing import StandardScaler\n",
    "\n",
    "from sklearn.linear_model import LogisticRegression\n",
    "from sklearn.svm import SVC\n",
    "from sklearn.naive_bayes import MultinomialNB\n",
    "from sklearn.tree import DecisionTreeClassifier\n",
    "from sklearn.neighbors import KNeighborsClassifier\n",
    "from sklearn.ensemble import RandomForestClassifier\n",
    "from sklearn.metrics import accuracy_score, f1_score, ConfusionMatrixDisplay\n",
    "from xgboost import XGBClassifier\n",
    "from scipy.sparse import hstack # Concat multiple vectors?\n",
    "\n",
    "# NLP\n",
    "nltk.download('stopwords')\n",
    "nltk.download('wordnet')"
   ]
  },
  {
   "cell_type": "markdown",
   "id": "5545119a",
   "metadata": {},
   "source": [
    "## Preprocessing "
   ]
  },
  {
   "cell_type": "code",
   "execution_count": 2,
   "id": "2253443a",
   "metadata": {},
   "outputs": [],
   "source": [
    "df_train = pd.read_csv('./train.csv')\n",
    "df_test = pd.read_csv('./test.csv')\n",
    "df_train.columns = ['id', 'job_id', 'title', 'location', 'department', 'salary_range', 'company_profile', 'description', 'requirements','benefits','telecommuting', 'logo', 'questions', 'employment_type', 'required_experience', 'required_education', 'industry', 'function', 'doughnuts' , 'fraudulent']\n",
    "df_test.columns = ['id', 'job_id', 'title', 'location', 'department', 'salary_range', 'company_profile', 'description', 'requirements','benefits','telecommuting', 'logo', 'questions', 'employment_type', 'required_experience', 'required_education', 'industry', 'function', 'doughnuts']"
   ]
  },
  {
   "cell_type": "code",
   "execution_count": 3,
   "id": "7a22435f",
   "metadata": {},
   "outputs": [],
   "source": [
    "# FAST ANALYSIS OF DATA\n",
    "\n",
    "# profile = ProfileReport(train_df, title=\"Pandas Profiling Report TRAIN\")\n",
    "# profile.to_file(\"train.html\")\n",
    "# profile = ProfileReport(train_df.loc[train_df.fraudulent==1], title=\"Pandas Profiling Report FRAUDULENT TRAIN\")\n",
    "# profile.to_file(\"fraud_train.html\")"
   ]
  },
  {
   "cell_type": "markdown",
   "id": "a1eab830",
   "metadata": {},
   "source": [
    "### Clean NaN  "
   ]
  },
  {
   "cell_type": "markdown",
   "id": "37877b2d",
   "metadata": {},
   "source": [
    "#### TRAIN "
   ]
  },
  {
   "cell_type": "code",
   "execution_count": 4,
   "id": "769687e6-fbef-42cd-9e39-870077f0d099",
   "metadata": {},
   "outputs": [],
   "source": [
    "#First we delete rows where the target is nan.\n",
    "df_train = df_train.dropna(how='any',subset=[\"fraudulent\"],axis=0)\n",
    "\n",
    "\n",
    "df_train = df_train.drop([\"id\", \"doughnuts\"], axis=1)"
   ]
  },
  {
   "cell_type": "code",
   "execution_count": 5,
   "id": "dcd40e9e",
   "metadata": {},
   "outputs": [],
   "source": [
    "# We save a dataframe with all the fraudulent values.\n",
    "subset_frau = df_train[df_train['fraudulent'] == 1]\n",
    "df_train = df_train.drop(subset_frau.index,axis= 0) "
   ]
  },
  {
   "cell_type": "code",
   "execution_count": 6,
   "id": "c7431c4a",
   "metadata": {},
   "outputs": [
    {
     "data": {
      "text/plain": [
       "array(['salary_range'], dtype=object)"
      ]
     },
     "execution_count": 6,
     "metadata": {},
     "output_type": "execute_result"
    }
   ],
   "source": [
    "df_train=df_train.dropna(axis=0, thresh=8)\n",
    "#df_train=df_train.dropna(axis=1, thresh=0.35*df_train.shape[0])\n",
    "df_train=df_train.drop([\"salary_range\"], axis=1)\n",
    "np.setdiff1d(subset_frau.columns, df_train.columns) # What columns have we deleted?"
   ]
  },
  {
   "cell_type": "code",
   "execution_count": 7,
   "id": "430a0a9e-e4a5-4268-b392-dca73abf3f0b",
   "metadata": {},
   "outputs": [
    {
     "name": "stdout",
     "output_type": "stream",
     "text": [
      "(10233, 17)\n"
     ]
    }
   ],
   "source": [
    "print(df_train.shape)"
   ]
  },
  {
   "cell_type": "code",
   "execution_count": 8,
   "id": "7b20b78c",
   "metadata": {},
   "outputs": [
    {
     "name": "stdout",
     "output_type": "stream",
     "text": [
      "Shape of Nan processed train DF (10727, 17)\n"
     ]
    },
    {
     "data": {
      "text/html": [
       "<div>\n",
       "<style scoped>\n",
       "    .dataframe tbody tr th:only-of-type {\n",
       "        vertical-align: middle;\n",
       "    }\n",
       "\n",
       "    .dataframe tbody tr th {\n",
       "        vertical-align: top;\n",
       "    }\n",
       "\n",
       "    .dataframe thead th {\n",
       "        text-align: right;\n",
       "    }\n",
       "</style>\n",
       "<table border=\"1\" class=\"dataframe\">\n",
       "  <thead>\n",
       "    <tr style=\"text-align: right;\">\n",
       "      <th></th>\n",
       "      <th>job_id</th>\n",
       "      <th>title</th>\n",
       "      <th>location</th>\n",
       "      <th>department</th>\n",
       "      <th>company_profile</th>\n",
       "      <th>description</th>\n",
       "      <th>requirements</th>\n",
       "      <th>benefits</th>\n",
       "      <th>telecommuting</th>\n",
       "      <th>logo</th>\n",
       "      <th>questions</th>\n",
       "      <th>employment_type</th>\n",
       "      <th>required_experience</th>\n",
       "      <th>required_education</th>\n",
       "      <th>industry</th>\n",
       "      <th>function</th>\n",
       "      <th>fraudulent</th>\n",
       "    </tr>\n",
       "  </thead>\n",
       "  <tbody>\n",
       "    <tr>\n",
       "      <th>9850</th>\n",
       "      <td>12393</td>\n",
       "      <td>Finance Manager (India)</td>\n",
       "      <td>IN, HR, Gurgaon</td>\n",
       "      <td>Operations</td>\n",
       "      <td>As augmented reality jobs go, one at Blippar i...</td>\n",
       "      <td>We are looking for an energetic, efficient and...</td>\n",
       "      <td>We are looking for a candidate with a strong a...</td>\n",
       "      <td>NaN</td>\n",
       "      <td>0</td>\n",
       "      <td>1</td>\n",
       "      <td>0</td>\n",
       "      <td>Full-time</td>\n",
       "      <td>Mid-Senior level</td>\n",
       "      <td>Bachelor's Degree</td>\n",
       "      <td>Accounting</td>\n",
       "      <td>Accounting/Auditing</td>\n",
       "      <td>0</td>\n",
       "    </tr>\n",
       "    <tr>\n",
       "      <th>7321</th>\n",
       "      <td>10982</td>\n",
       "      <td>Hemel Heampstead Business Admin Apprenticeship...</td>\n",
       "      <td>GB, , Hemel Hempstead</td>\n",
       "      <td>NaN</td>\n",
       "      <td>Established on the principles that full time e...</td>\n",
       "      <td>Government FUNDING is only available for 16-18...</td>\n",
       "      <td>16-18 year olds only due to government funding...</td>\n",
       "      <td>Career prospects.</td>\n",
       "      <td>0</td>\n",
       "      <td>1</td>\n",
       "      <td>1</td>\n",
       "      <td>Full-time</td>\n",
       "      <td>Not Applicable</td>\n",
       "      <td>High School or equivalent</td>\n",
       "      <td>NaN</td>\n",
       "      <td>Administrative</td>\n",
       "      <td>0</td>\n",
       "    </tr>\n",
       "    <tr>\n",
       "      <th>8640</th>\n",
       "      <td>38</td>\n",
       "      <td>PROJECT MANAGER</td>\n",
       "      <td>US, TX, HOUSTON</td>\n",
       "      <td>NaN</td>\n",
       "      <td>NaN</td>\n",
       "      <td>we are looking for a Project Manager. The Proj...</td>\n",
       "      <td>NaN</td>\n",
       "      <td>NaN</td>\n",
       "      <td>0</td>\n",
       "      <td>0</td>\n",
       "      <td>0</td>\n",
       "      <td>Full-time</td>\n",
       "      <td>Mid-Senior level</td>\n",
       "      <td>Bachelor's Degree</td>\n",
       "      <td>Oil &amp; Energy</td>\n",
       "      <td>Engineering</td>\n",
       "      <td>0</td>\n",
       "    </tr>\n",
       "  </tbody>\n",
       "</table>\n",
       "</div>"
      ],
      "text/plain": [
       "      job_id                                              title  \\\n",
       "9850   12393                            Finance Manager (India)   \n",
       "7321   10982  Hemel Heampstead Business Admin Apprenticeship...   \n",
       "8640      38                                    PROJECT MANAGER   \n",
       "\n",
       "                   location  department  \\\n",
       "9850        IN, HR, Gurgaon  Operations   \n",
       "7321  GB, , Hemel Hempstead         NaN   \n",
       "8640        US, TX, HOUSTON         NaN   \n",
       "\n",
       "                                        company_profile  \\\n",
       "9850  As augmented reality jobs go, one at Blippar i...   \n",
       "7321  Established on the principles that full time e...   \n",
       "8640                                                NaN   \n",
       "\n",
       "                                            description  \\\n",
       "9850  We are looking for an energetic, efficient and...   \n",
       "7321  Government FUNDING is only available for 16-18...   \n",
       "8640  we are looking for a Project Manager. The Proj...   \n",
       "\n",
       "                                           requirements           benefits  \\\n",
       "9850  We are looking for a candidate with a strong a...                NaN   \n",
       "7321  16-18 year olds only due to government funding...  Career prospects.   \n",
       "8640                                                NaN                NaN   \n",
       "\n",
       "      telecommuting  logo  questions employment_type required_experience  \\\n",
       "9850              0     1          0       Full-time    Mid-Senior level   \n",
       "7321              0     1          1       Full-time      Not Applicable   \n",
       "8640              0     0          0       Full-time    Mid-Senior level   \n",
       "\n",
       "             required_education      industry             function  fraudulent  \n",
       "9850          Bachelor's Degree    Accounting  Accounting/Auditing           0  \n",
       "7321  High School or equivalent           NaN       Administrative           0  \n",
       "8640          Bachelor's Degree  Oil & Energy          Engineering           0  "
      ]
     },
     "execution_count": 8,
     "metadata": {},
     "output_type": "execute_result"
    }
   ],
   "source": [
    "subset_frau=subset_frau.drop([\"salary_range\"], axis=1)\n",
    "df_train=pd.concat([df_train, subset_frau])\n",
    "print(f'Shape of Nan processed train DF {df_train.shape}')\n",
    "df_train.sample(3)"
   ]
  },
  {
   "cell_type": "code",
   "execution_count": 9,
   "id": "31647e76",
   "metadata": {},
   "outputs": [
    {
     "data": {
      "text/html": [
       "<div>\n",
       "<style scoped>\n",
       "    .dataframe tbody tr th:only-of-type {\n",
       "        vertical-align: middle;\n",
       "    }\n",
       "\n",
       "    .dataframe tbody tr th {\n",
       "        vertical-align: top;\n",
       "    }\n",
       "\n",
       "    .dataframe thead th {\n",
       "        text-align: right;\n",
       "    }\n",
       "</style>\n",
       "<table border=\"1\" class=\"dataframe\">\n",
       "  <thead>\n",
       "    <tr style=\"text-align: right;\">\n",
       "      <th></th>\n",
       "      <th>job_id</th>\n",
       "      <th>title</th>\n",
       "      <th>location</th>\n",
       "      <th>department</th>\n",
       "      <th>company_profile</th>\n",
       "      <th>description</th>\n",
       "      <th>requirements</th>\n",
       "      <th>benefits</th>\n",
       "      <th>telecommuting</th>\n",
       "      <th>logo</th>\n",
       "      <th>questions</th>\n",
       "      <th>employment_type</th>\n",
       "      <th>required_experience</th>\n",
       "      <th>required_education</th>\n",
       "      <th>industry</th>\n",
       "      <th>function</th>\n",
       "      <th>fraudulent</th>\n",
       "    </tr>\n",
       "  </thead>\n",
       "  <tbody>\n",
       "    <tr>\n",
       "      <th>3400</th>\n",
       "      <td>4608</td>\n",
       "      <td>CALL CENTER REP</td>\n",
       "      <td>US, TX, DALLAS</td>\n",
       "      <td>CALLCENTER</td>\n",
       "      <td>The Accion  story began more than 100 years ag...</td>\n",
       "      <td>Our Call Center Rep would be expected to be ex...</td>\n",
       "      <td>The qualifications for this position ensure yo...</td>\n",
       "      <td>100% coverage of dental, vision and life insur...</td>\n",
       "      <td>0</td>\n",
       "      <td>1</td>\n",
       "      <td>1</td>\n",
       "      <td>Full-time</td>\n",
       "      <td>Associate</td>\n",
       "      <td>High School or equivalent</td>\n",
       "      <td>Financial Services</td>\n",
       "      <td>Customer Service</td>\n",
       "      <td>1</td>\n",
       "    </tr>\n",
       "    <tr>\n",
       "      <th>506</th>\n",
       "      <td>6175</td>\n",
       "      <td>Backend JavaScript developer</td>\n",
       "      <td>DE, BE, Berlin</td>\n",
       "      <td>Development</td>\n",
       "      <td>Unknown company_profile</td>\n",
       "      <td>Contentful (#URL_0252efddcbc4b8f51969fca7b0545...</td>\n",
       "      <td>Solid experience writing maintainable and well...</td>\n",
       "      <td>The Web is changing and becoming more interact...</td>\n",
       "      <td>0</td>\n",
       "      <td>1</td>\n",
       "      <td>1</td>\n",
       "      <td>Full-time</td>\n",
       "      <td>Mid-Senior level</td>\n",
       "      <td>Unknown required_education</td>\n",
       "      <td>Internet</td>\n",
       "      <td>Information Technology</td>\n",
       "      <td>0</td>\n",
       "    </tr>\n",
       "    <tr>\n",
       "      <th>9117</th>\n",
       "      <td>10607</td>\n",
       "      <td>Sr. Vice President - Global &amp; Strategic Accounts</td>\n",
       "      <td>US, OH, Mason</td>\n",
       "      <td>GSA</td>\n",
       "      <td>About Us:For nearly 20 years, Touchstone has b...</td>\n",
       "      <td>SVP – GLOBAL &amp;amp; STRATEGIC ACCOUNTSPosition ...</td>\n",
       "      <td>Requirements:10 Years Promotional Products Glo...</td>\n",
       "      <td>Salary Range:$125,000 range (Salary will be co...</td>\n",
       "      <td>0</td>\n",
       "      <td>1</td>\n",
       "      <td>0</td>\n",
       "      <td>Full-time</td>\n",
       "      <td>Executive</td>\n",
       "      <td>Bachelor's Degree</td>\n",
       "      <td>Marketing and Advertising</td>\n",
       "      <td>Management</td>\n",
       "      <td>0</td>\n",
       "    </tr>\n",
       "  </tbody>\n",
       "</table>\n",
       "</div>"
      ],
      "text/plain": [
       "      job_id                                             title  \\\n",
       "3400    4608                                   CALL CENTER REP   \n",
       "506     6175                      Backend JavaScript developer   \n",
       "9117   10607  Sr. Vice President - Global & Strategic Accounts   \n",
       "\n",
       "            location   department  \\\n",
       "3400  US, TX, DALLAS   CALLCENTER   \n",
       "506   DE, BE, Berlin  Development   \n",
       "9117   US, OH, Mason          GSA   \n",
       "\n",
       "                                        company_profile  \\\n",
       "3400  The Accion  story began more than 100 years ag...   \n",
       "506                             Unknown company_profile   \n",
       "9117  About Us:For nearly 20 years, Touchstone has b...   \n",
       "\n",
       "                                            description  \\\n",
       "3400  Our Call Center Rep would be expected to be ex...   \n",
       "506   Contentful (#URL_0252efddcbc4b8f51969fca7b0545...   \n",
       "9117  SVP – GLOBAL &amp; STRATEGIC ACCOUNTSPosition ...   \n",
       "\n",
       "                                           requirements  \\\n",
       "3400  The qualifications for this position ensure yo...   \n",
       "506   Solid experience writing maintainable and well...   \n",
       "9117  Requirements:10 Years Promotional Products Glo...   \n",
       "\n",
       "                                               benefits  telecommuting  logo  \\\n",
       "3400  100% coverage of dental, vision and life insur...              0     1   \n",
       "506   The Web is changing and becoming more interact...              0     1   \n",
       "9117  Salary Range:$125,000 range (Salary will be co...              0     1   \n",
       "\n",
       "      questions employment_type required_experience  \\\n",
       "3400          1       Full-time           Associate   \n",
       "506           1       Full-time    Mid-Senior level   \n",
       "9117          0       Full-time           Executive   \n",
       "\n",
       "              required_education                   industry  \\\n",
       "3400   High School or equivalent         Financial Services   \n",
       "506   Unknown required_education                   Internet   \n",
       "9117           Bachelor's Degree  Marketing and Advertising   \n",
       "\n",
       "                    function  fraudulent  \n",
       "3400        Customer Service           1  \n",
       "506   Information Technology           0  \n",
       "9117              Management           0  "
      ]
     },
     "execution_count": 9,
     "metadata": {},
     "output_type": "execute_result"
    }
   ],
   "source": [
    "# NaN for Unkown {category}\n",
    "for (columnName, columnData) in df_train.iteritems():\n",
    "    name=\"Unknown {}\".format(columnName)\n",
    "    df_train[columnName] = df_train[columnName].replace(np.nan,name)\n",
    "df_train.sample(3)"
   ]
  },
  {
   "cell_type": "markdown",
   "id": "8246c3a5",
   "metadata": {},
   "source": [
    "#### TEST "
   ]
  },
  {
   "cell_type": "code",
   "execution_count": 10,
   "id": "c085b0f2",
   "metadata": {},
   "outputs": [],
   "source": [
    "#job_id\n",
    "df_test=df_test.drop([\"id\", \"doughnuts\"], axis=1)\n",
    "df_test=df_test.drop([\"salary_range\"], axis=1)\n",
    "\n",
    "for (columnName, columnData) in df_test.iteritems():\n",
    "    name=\"Unknown {}\".format(columnName)\n",
    "    df_test[columnName] = df_test[columnName].replace(np.nan,name)"
   ]
  },
  {
   "cell_type": "markdown",
   "id": "448b2f75-f33b-40e5-bfab-3f8c1bdfb44a",
   "metadata": {},
   "source": [
    "#### Splitting location in 3 new features."
   ]
  },
  {
   "cell_type": "code",
   "execution_count": 11,
   "id": "b6ae3da3-31e3-4cb7-8e88-85ab5b5344a5",
   "metadata": {},
   "outputs": [],
   "source": [
    "def get_country(row):\n",
    "    spl = row['location'].split(',')\n",
    "    return spl[0]\n",
    "\n",
    "def get_region(row):\n",
    "    spl = row['location'].split(',')\n",
    "    if len(spl) >= 2:\n",
    "        return spl[1]\n",
    "    else:\n",
    "        return 'Unknown'\n",
    "\n",
    "def get_city(row):\n",
    "    spl = row['location'].split(',')\n",
    "    if len(spl) >= 3:\n",
    "        return spl[2]\n",
    "    else:\n",
    "        return 'Unknown'"
   ]
  },
  {
   "cell_type": "code",
   "execution_count": 12,
   "id": "f00581d0-2e7e-4b15-8a93-5e4afe6f03ef",
   "metadata": {},
   "outputs": [],
   "source": [
    "df_train['country'] = df_train.apply(get_country, axis=1)\n",
    "df_train['region'] = df_train.apply(get_region, axis=1)\n",
    "df_train['city'] = df_train.apply(get_city, axis=1)\n",
    "df_train=df_train.drop(\"location\", axis=1)"
   ]
  },
  {
   "cell_type": "code",
   "execution_count": 13,
   "id": "23f010c1-6093-4498-af8c-371f8a7777b5",
   "metadata": {},
   "outputs": [],
   "source": [
    "df_test['country'] = df_test.apply(get_country, axis=1)\n",
    "df_test['region'] = df_test.apply(get_region, axis=1)\n",
    "df_test['city'] = df_test.apply(get_city, axis=1)\n",
    "df_test=df_test.drop(\"location\", axis=1)"
   ]
  },
  {
   "cell_type": "markdown",
   "id": "24dcce6c",
   "metadata": {},
   "source": [
    "## Text Analysis "
   ]
  },
  {
   "cell_type": "markdown",
   "id": "edd5fc0b",
   "metadata": {},
   "source": [
    "We first need to process our text to eliminate commas, points and all this useless stuff for our model!"
   ]
  },
  {
   "cell_type": "code",
   "execution_count": 14,
   "id": "8a9627ff",
   "metadata": {},
   "outputs": [],
   "source": [
    "def text_process(text, lower=False):\n",
    "    \"\"\"text.translate(str.maketrans(string.punctuation, ' ' * len(string.punctuation)))\n",
    "        translated any punctuation within text to whitespace, so using replace(' '*4, ' ') \n",
    "        is to replace 4 consecutive whitespace to single one, replace(' '*3, ' ')\n",
    "        from 3 to 1, and so on; then strip to eliminate the whitespaces before & after.\n",
    "\n",
    "     NECESSARY TO DO THINGS LIKE: Requirements/Qualifications:1 year -> Requirements Qualification 1 year \n",
    "    \"\"\"\n",
    "    text = text.translate(\n",
    "    str.maketrans(string.punctuation, ' ' * len(string.punctuation))).replace(\n",
    "    ' '*4, ' ').replace(' '*3, ' ').replace(' '*2, ' ').strip()\n",
    "    # Eliminates the stopwords useless for our model\n",
    "    if lower:\n",
    "        text = [word.lower() for word in text.split() if word.lower() not in stopwords.words('english')]\n",
    "    else:\n",
    "        text = [word for word in text.split() if word.lower() not in stopwords.words('english')]\n",
    "\n",
    "    return \" \".join(text)"
   ]
  },
  {
   "cell_type": "code",
   "execution_count": 15,
   "id": "066fbe65",
   "metadata": {},
   "outputs": [],
   "source": [
    "def wordcloud(df, size=(10,7)):\n",
    "    \"\"\"\n",
    "    Computes the WordCloud of a column of dataframe or saying it in another way, of text values.\n",
    "    \"\"\"\n",
    "    titles_ls = [text for text in df]\n",
    "    real_all_words = ' '.join(df)\n",
    "    wordcloud_real = WordCloud(background_color='white',\n",
    "        width= 800, height= 500,\n",
    "        max_font_size = 180,\n",
    "        collocations = False).generate(real_all_words)\n",
    "\n",
    "    plt.figure(figsize=(10,7))\n",
    "    plt.imshow(wordcloud_real, interpolation='bilinear')\n",
    "    plt.axis(\"off\")\n",
    "    plt.show()\n",
    "    return wordcloud_real"
   ]
  },
  {
   "cell_type": "markdown",
   "id": "88602e9a",
   "metadata": {},
   "source": [
    "Let's process for the train and test data!"
   ]
  },
  {
   "cell_type": "code",
   "execution_count": 16,
   "id": "fbe55aef",
   "metadata": {},
   "outputs": [
    {
     "name": "stdout",
     "output_type": "stream",
     "text": [
      "title processed.\n",
      "country processed.\n",
      "region processed.\n",
      "city processed.\n",
      "department processed.\n",
      "company_profile processed.\n",
      "description processed.\n",
      "requirements processed.\n",
      "benefits processed.\n",
      "industry processed.\n",
      "function processed.\n",
      "employment_type processed.\n",
      "required_experience processed.\n",
      "required_education processed.\n",
      "1042.9544923305511 seconds to compute ['title', 'country', 'region', 'city', 'department', 'company_profile', 'description', 'requirements', 'benefits', 'industry', 'function', 'employment_type', 'required_experience', 'required_education']\n",
      "title processed.\n",
      "country processed.\n",
      "region processed.\n",
      "city processed.\n",
      "department processed.\n",
      "company_profile processed.\n",
      "description processed.\n",
      "requirements processed.\n",
      "benefits processed.\n",
      "industry processed.\n",
      "function processed.\n",
      "employment_type processed.\n",
      "required_experience processed.\n",
      "required_education processed.\n",
      "667.6662411689758 seconds to compute ['title', 'country', 'region', 'city', 'department', 'company_profile', 'description', 'requirements', 'benefits', 'industry', 'function', 'employment_type', 'required_experience', 'required_education']\n"
     ]
    },
    {
     "ename": "OSError",
     "evalue": "Cannot save file into a non-existent directory: '\\csv text'",
     "output_type": "error",
     "traceback": [
      "\u001b[1;31m---------------------------------------------------------------------------\u001b[0m",
      "\u001b[1;31mOSError\u001b[0m                                   Traceback (most recent call last)",
      "Input \u001b[1;32mIn [16]\u001b[0m, in \u001b[0;36m<cell line: 21>\u001b[1;34m()\u001b[0m\n\u001b[0;32m     18\u001b[0m end \u001b[38;5;241m=\u001b[39m time\u001b[38;5;241m.\u001b[39mtime()\n\u001b[0;32m     19\u001b[0m \u001b[38;5;28mprint\u001b[39m(\u001b[38;5;124mf\u001b[39m\u001b[38;5;124m'\u001b[39m\u001b[38;5;132;01m{\u001b[39;00mend\u001b[38;5;241m-\u001b[39mstart\u001b[38;5;132;01m}\u001b[39;00m\u001b[38;5;124m seconds to compute \u001b[39m\u001b[38;5;132;01m{\u001b[39;00mcols\u001b[38;5;132;01m}\u001b[39;00m\u001b[38;5;124m'\u001b[39m)\n\u001b[1;32m---> 21\u001b[0m \u001b[43mdf_train_proc\u001b[49m\u001b[38;5;241;43m.\u001b[39;49m\u001b[43mto_csv\u001b[49m\u001b[43m(\u001b[49m\u001b[38;5;124;43m'\u001b[39;49m\u001b[38;5;124;43m/csv text/train_text_processed_ALL.csv\u001b[39;49m\u001b[38;5;124;43m'\u001b[39;49m\u001b[43m)\u001b[49m\n\u001b[0;32m     22\u001b[0m df_test_proc\u001b[38;5;241m.\u001b[39mto_csv(\u001b[38;5;124m'\u001b[39m\u001b[38;5;124m/csv text/test_text_processed_ALL.csv\u001b[39m\u001b[38;5;124m'\u001b[39m)\n",
      "File \u001b[1;32m~\\anaconda3\\lib\\site-packages\\pandas\\core\\generic.py:3551\u001b[0m, in \u001b[0;36mNDFrame.to_csv\u001b[1;34m(self, path_or_buf, sep, na_rep, float_format, columns, header, index, index_label, mode, encoding, compression, quoting, quotechar, line_terminator, chunksize, date_format, doublequote, escapechar, decimal, errors, storage_options)\u001b[0m\n\u001b[0;32m   3540\u001b[0m df \u001b[38;5;241m=\u001b[39m \u001b[38;5;28mself\u001b[39m \u001b[38;5;28;01mif\u001b[39;00m \u001b[38;5;28misinstance\u001b[39m(\u001b[38;5;28mself\u001b[39m, ABCDataFrame) \u001b[38;5;28;01melse\u001b[39;00m \u001b[38;5;28mself\u001b[39m\u001b[38;5;241m.\u001b[39mto_frame()\n\u001b[0;32m   3542\u001b[0m formatter \u001b[38;5;241m=\u001b[39m DataFrameFormatter(\n\u001b[0;32m   3543\u001b[0m     frame\u001b[38;5;241m=\u001b[39mdf,\n\u001b[0;32m   3544\u001b[0m     header\u001b[38;5;241m=\u001b[39mheader,\n\u001b[1;32m   (...)\u001b[0m\n\u001b[0;32m   3548\u001b[0m     decimal\u001b[38;5;241m=\u001b[39mdecimal,\n\u001b[0;32m   3549\u001b[0m )\n\u001b[1;32m-> 3551\u001b[0m \u001b[38;5;28;01mreturn\u001b[39;00m \u001b[43mDataFrameRenderer\u001b[49m\u001b[43m(\u001b[49m\u001b[43mformatter\u001b[49m\u001b[43m)\u001b[49m\u001b[38;5;241;43m.\u001b[39;49m\u001b[43mto_csv\u001b[49m\u001b[43m(\u001b[49m\n\u001b[0;32m   3552\u001b[0m \u001b[43m    \u001b[49m\u001b[43mpath_or_buf\u001b[49m\u001b[43m,\u001b[49m\n\u001b[0;32m   3553\u001b[0m \u001b[43m    \u001b[49m\u001b[43mline_terminator\u001b[49m\u001b[38;5;241;43m=\u001b[39;49m\u001b[43mline_terminator\u001b[49m\u001b[43m,\u001b[49m\n\u001b[0;32m   3554\u001b[0m \u001b[43m    \u001b[49m\u001b[43msep\u001b[49m\u001b[38;5;241;43m=\u001b[39;49m\u001b[43msep\u001b[49m\u001b[43m,\u001b[49m\n\u001b[0;32m   3555\u001b[0m \u001b[43m    \u001b[49m\u001b[43mencoding\u001b[49m\u001b[38;5;241;43m=\u001b[39;49m\u001b[43mencoding\u001b[49m\u001b[43m,\u001b[49m\n\u001b[0;32m   3556\u001b[0m \u001b[43m    \u001b[49m\u001b[43merrors\u001b[49m\u001b[38;5;241;43m=\u001b[39;49m\u001b[43merrors\u001b[49m\u001b[43m,\u001b[49m\n\u001b[0;32m   3557\u001b[0m \u001b[43m    \u001b[49m\u001b[43mcompression\u001b[49m\u001b[38;5;241;43m=\u001b[39;49m\u001b[43mcompression\u001b[49m\u001b[43m,\u001b[49m\n\u001b[0;32m   3558\u001b[0m \u001b[43m    \u001b[49m\u001b[43mquoting\u001b[49m\u001b[38;5;241;43m=\u001b[39;49m\u001b[43mquoting\u001b[49m\u001b[43m,\u001b[49m\n\u001b[0;32m   3559\u001b[0m \u001b[43m    \u001b[49m\u001b[43mcolumns\u001b[49m\u001b[38;5;241;43m=\u001b[39;49m\u001b[43mcolumns\u001b[49m\u001b[43m,\u001b[49m\n\u001b[0;32m   3560\u001b[0m \u001b[43m    \u001b[49m\u001b[43mindex_label\u001b[49m\u001b[38;5;241;43m=\u001b[39;49m\u001b[43mindex_label\u001b[49m\u001b[43m,\u001b[49m\n\u001b[0;32m   3561\u001b[0m \u001b[43m    \u001b[49m\u001b[43mmode\u001b[49m\u001b[38;5;241;43m=\u001b[39;49m\u001b[43mmode\u001b[49m\u001b[43m,\u001b[49m\n\u001b[0;32m   3562\u001b[0m \u001b[43m    \u001b[49m\u001b[43mchunksize\u001b[49m\u001b[38;5;241;43m=\u001b[39;49m\u001b[43mchunksize\u001b[49m\u001b[43m,\u001b[49m\n\u001b[0;32m   3563\u001b[0m \u001b[43m    \u001b[49m\u001b[43mquotechar\u001b[49m\u001b[38;5;241;43m=\u001b[39;49m\u001b[43mquotechar\u001b[49m\u001b[43m,\u001b[49m\n\u001b[0;32m   3564\u001b[0m \u001b[43m    \u001b[49m\u001b[43mdate_format\u001b[49m\u001b[38;5;241;43m=\u001b[39;49m\u001b[43mdate_format\u001b[49m\u001b[43m,\u001b[49m\n\u001b[0;32m   3565\u001b[0m \u001b[43m    \u001b[49m\u001b[43mdoublequote\u001b[49m\u001b[38;5;241;43m=\u001b[39;49m\u001b[43mdoublequote\u001b[49m\u001b[43m,\u001b[49m\n\u001b[0;32m   3566\u001b[0m \u001b[43m    \u001b[49m\u001b[43mescapechar\u001b[49m\u001b[38;5;241;43m=\u001b[39;49m\u001b[43mescapechar\u001b[49m\u001b[43m,\u001b[49m\n\u001b[0;32m   3567\u001b[0m \u001b[43m    \u001b[49m\u001b[43mstorage_options\u001b[49m\u001b[38;5;241;43m=\u001b[39;49m\u001b[43mstorage_options\u001b[49m\u001b[43m,\u001b[49m\n\u001b[0;32m   3568\u001b[0m \u001b[43m\u001b[49m\u001b[43m)\u001b[49m\n",
      "File \u001b[1;32m~\\anaconda3\\lib\\site-packages\\pandas\\io\\formats\\format.py:1180\u001b[0m, in \u001b[0;36mDataFrameRenderer.to_csv\u001b[1;34m(self, path_or_buf, encoding, sep, columns, index_label, mode, compression, quoting, quotechar, line_terminator, chunksize, date_format, doublequote, escapechar, errors, storage_options)\u001b[0m\n\u001b[0;32m   1159\u001b[0m     created_buffer \u001b[38;5;241m=\u001b[39m \u001b[38;5;28;01mFalse\u001b[39;00m\n\u001b[0;32m   1161\u001b[0m csv_formatter \u001b[38;5;241m=\u001b[39m CSVFormatter(\n\u001b[0;32m   1162\u001b[0m     path_or_buf\u001b[38;5;241m=\u001b[39mpath_or_buf,\n\u001b[0;32m   1163\u001b[0m     line_terminator\u001b[38;5;241m=\u001b[39mline_terminator,\n\u001b[1;32m   (...)\u001b[0m\n\u001b[0;32m   1178\u001b[0m     formatter\u001b[38;5;241m=\u001b[39m\u001b[38;5;28mself\u001b[39m\u001b[38;5;241m.\u001b[39mfmt,\n\u001b[0;32m   1179\u001b[0m )\n\u001b[1;32m-> 1180\u001b[0m \u001b[43mcsv_formatter\u001b[49m\u001b[38;5;241;43m.\u001b[39;49m\u001b[43msave\u001b[49m\u001b[43m(\u001b[49m\u001b[43m)\u001b[49m\n\u001b[0;32m   1182\u001b[0m \u001b[38;5;28;01mif\u001b[39;00m created_buffer:\n\u001b[0;32m   1183\u001b[0m     \u001b[38;5;28;01massert\u001b[39;00m \u001b[38;5;28misinstance\u001b[39m(path_or_buf, StringIO)\n",
      "File \u001b[1;32m~\\anaconda3\\lib\\site-packages\\pandas\\io\\formats\\csvs.py:241\u001b[0m, in \u001b[0;36mCSVFormatter.save\u001b[1;34m(self)\u001b[0m\n\u001b[0;32m    237\u001b[0m \u001b[38;5;124;03m\"\"\"\u001b[39;00m\n\u001b[0;32m    238\u001b[0m \u001b[38;5;124;03mCreate the writer & save.\u001b[39;00m\n\u001b[0;32m    239\u001b[0m \u001b[38;5;124;03m\"\"\"\u001b[39;00m\n\u001b[0;32m    240\u001b[0m \u001b[38;5;66;03m# apply compression and byte/text conversion\u001b[39;00m\n\u001b[1;32m--> 241\u001b[0m \u001b[38;5;28;01mwith\u001b[39;00m \u001b[43mget_handle\u001b[49m\u001b[43m(\u001b[49m\n\u001b[0;32m    242\u001b[0m \u001b[43m    \u001b[49m\u001b[38;5;28;43mself\u001b[39;49m\u001b[38;5;241;43m.\u001b[39;49m\u001b[43mfilepath_or_buffer\u001b[49m\u001b[43m,\u001b[49m\n\u001b[0;32m    243\u001b[0m \u001b[43m    \u001b[49m\u001b[38;5;28;43mself\u001b[39;49m\u001b[38;5;241;43m.\u001b[39;49m\u001b[43mmode\u001b[49m\u001b[43m,\u001b[49m\n\u001b[0;32m    244\u001b[0m \u001b[43m    \u001b[49m\u001b[43mencoding\u001b[49m\u001b[38;5;241;43m=\u001b[39;49m\u001b[38;5;28;43mself\u001b[39;49m\u001b[38;5;241;43m.\u001b[39;49m\u001b[43mencoding\u001b[49m\u001b[43m,\u001b[49m\n\u001b[0;32m    245\u001b[0m \u001b[43m    \u001b[49m\u001b[43merrors\u001b[49m\u001b[38;5;241;43m=\u001b[39;49m\u001b[38;5;28;43mself\u001b[39;49m\u001b[38;5;241;43m.\u001b[39;49m\u001b[43merrors\u001b[49m\u001b[43m,\u001b[49m\n\u001b[0;32m    246\u001b[0m \u001b[43m    \u001b[49m\u001b[43mcompression\u001b[49m\u001b[38;5;241;43m=\u001b[39;49m\u001b[38;5;28;43mself\u001b[39;49m\u001b[38;5;241;43m.\u001b[39;49m\u001b[43mcompression\u001b[49m\u001b[43m,\u001b[49m\n\u001b[0;32m    247\u001b[0m \u001b[43m    \u001b[49m\u001b[43mstorage_options\u001b[49m\u001b[38;5;241;43m=\u001b[39;49m\u001b[38;5;28;43mself\u001b[39;49m\u001b[38;5;241;43m.\u001b[39;49m\u001b[43mstorage_options\u001b[49m\u001b[43m,\u001b[49m\n\u001b[0;32m    248\u001b[0m \u001b[43m\u001b[49m\u001b[43m)\u001b[49m \u001b[38;5;28;01mas\u001b[39;00m handles:\n\u001b[0;32m    249\u001b[0m \n\u001b[0;32m    250\u001b[0m     \u001b[38;5;66;03m# Note: self.encoding is irrelevant here\u001b[39;00m\n\u001b[0;32m    251\u001b[0m     \u001b[38;5;28mself\u001b[39m\u001b[38;5;241m.\u001b[39mwriter \u001b[38;5;241m=\u001b[39m csvlib\u001b[38;5;241m.\u001b[39mwriter(\n\u001b[0;32m    252\u001b[0m         handles\u001b[38;5;241m.\u001b[39mhandle,\n\u001b[0;32m    253\u001b[0m         lineterminator\u001b[38;5;241m=\u001b[39m\u001b[38;5;28mself\u001b[39m\u001b[38;5;241m.\u001b[39mline_terminator,\n\u001b[1;32m   (...)\u001b[0m\n\u001b[0;32m    258\u001b[0m         quotechar\u001b[38;5;241m=\u001b[39m\u001b[38;5;28mself\u001b[39m\u001b[38;5;241m.\u001b[39mquotechar,\n\u001b[0;32m    259\u001b[0m     )\n\u001b[0;32m    261\u001b[0m     \u001b[38;5;28mself\u001b[39m\u001b[38;5;241m.\u001b[39m_save()\n",
      "File \u001b[1;32m~\\anaconda3\\lib\\site-packages\\pandas\\io\\common.py:694\u001b[0m, in \u001b[0;36mget_handle\u001b[1;34m(path_or_buf, mode, encoding, compression, memory_map, is_text, errors, storage_options)\u001b[0m\n\u001b[0;32m    692\u001b[0m \u001b[38;5;66;03m# Only for write methods\u001b[39;00m\n\u001b[0;32m    693\u001b[0m \u001b[38;5;28;01mif\u001b[39;00m \u001b[38;5;124m\"\u001b[39m\u001b[38;5;124mr\u001b[39m\u001b[38;5;124m\"\u001b[39m \u001b[38;5;129;01mnot\u001b[39;00m \u001b[38;5;129;01min\u001b[39;00m mode \u001b[38;5;129;01mand\u001b[39;00m is_path:\n\u001b[1;32m--> 694\u001b[0m     \u001b[43mcheck_parent_directory\u001b[49m\u001b[43m(\u001b[49m\u001b[38;5;28;43mstr\u001b[39;49m\u001b[43m(\u001b[49m\u001b[43mhandle\u001b[49m\u001b[43m)\u001b[49m\u001b[43m)\u001b[49m\n\u001b[0;32m    696\u001b[0m \u001b[38;5;28;01mif\u001b[39;00m compression:\n\u001b[0;32m    697\u001b[0m     \u001b[38;5;28;01mif\u001b[39;00m compression \u001b[38;5;241m!=\u001b[39m \u001b[38;5;124m\"\u001b[39m\u001b[38;5;124mzstd\u001b[39m\u001b[38;5;124m\"\u001b[39m:\n\u001b[0;32m    698\u001b[0m         \u001b[38;5;66;03m# compression libraries do not like an explicit text-mode\u001b[39;00m\n",
      "File \u001b[1;32m~\\anaconda3\\lib\\site-packages\\pandas\\io\\common.py:568\u001b[0m, in \u001b[0;36mcheck_parent_directory\u001b[1;34m(path)\u001b[0m\n\u001b[0;32m    566\u001b[0m parent \u001b[38;5;241m=\u001b[39m Path(path)\u001b[38;5;241m.\u001b[39mparent\n\u001b[0;32m    567\u001b[0m \u001b[38;5;28;01mif\u001b[39;00m \u001b[38;5;129;01mnot\u001b[39;00m parent\u001b[38;5;241m.\u001b[39mis_dir():\n\u001b[1;32m--> 568\u001b[0m     \u001b[38;5;28;01mraise\u001b[39;00m \u001b[38;5;167;01mOSError\u001b[39;00m(\u001b[38;5;124mrf\u001b[39m\u001b[38;5;124m\"\u001b[39m\u001b[38;5;124mCannot save file into a non-existent directory: \u001b[39m\u001b[38;5;124m'\u001b[39m\u001b[38;5;132;01m{\u001b[39;00mparent\u001b[38;5;132;01m}\u001b[39;00m\u001b[38;5;124m'\u001b[39m\u001b[38;5;124m\"\u001b[39m)\n",
      "\u001b[1;31mOSError\u001b[0m: Cannot save file into a non-existent directory: '\\csv text'"
     ]
    }
   ],
   "source": [
    "start = time.time()\n",
    "df_train_proc = pd.DataFrame()\n",
    "cols = ['title', 'country', 'region', 'city', 'department','company_profile', 'description', 'requirements', \n",
    "            'benefits', 'industry', 'function','employment_type','required_experience','required_education']\n",
    "for col in cols:\n",
    "    df_train_proc[col] = df_train[col].apply(text_process)\n",
    "    print(f'{col} processed.')\n",
    "end = time.time()\n",
    "print(f'{end-start} seconds to compute {cols}')\n",
    "\n",
    "start = time.time()\n",
    "df_test_proc = pd.DataFrame()\n",
    "cols = ['title', 'country', 'region', 'city', 'department', 'company_profile', 'description', 'requirements', \n",
    "            'benefits', 'industry', 'function','employment_type','required_experience','required_education']\n",
    "for col in cols:\n",
    "    df_test_proc[col] = df_test[col].apply(text_process)\n",
    "    print(f'{col} processed.')\n",
    "end = time.time()\n",
    "print(f'{end-start} seconds to compute {cols}')\n"
   ]
  },
  {
   "cell_type": "code",
   "execution_count": 19,
   "id": "11c912f7",
   "metadata": {},
   "outputs": [
    {
     "data": {
      "text/plain": [
       "((10727, 14), (7152, 14))"
      ]
     },
     "execution_count": 19,
     "metadata": {},
     "output_type": "execute_result"
    }
   ],
   "source": [
    "df_train_proc.shape, df_test_proc.shape"
   ]
  },
  {
   "cell_type": "code",
   "execution_count": 20,
   "id": "4b3b6534",
   "metadata": {},
   "outputs": [],
   "source": [
    "df_train_proc.to_csv('TRAIN_processed.csv')\n",
    "df_test_proc.to_csv('TEST_processed.csv')"
   ]
  },
  {
   "cell_type": "markdown",
   "id": "2d8a3f19",
   "metadata": {},
   "source": [
    "### Features to vectorize "
   ]
  },
  {
   "cell_type": "code",
   "execution_count": 75,
   "id": "1a206e49",
   "metadata": {},
   "outputs": [],
   "source": [
    "selected_cols = ['title', 'city', 'department', 'company_profile', 'requirements', \n",
    "            'benefits', 'industry', 'function','employment_type','required_experience','required_education']\n",
    "df_train_selected = df_train_proc[selected_cols]\n",
    "X = df_train_selected\n",
    "y = df_train.fraudulent\n",
    "#X_train, X_valid, y_train, y_valid = train_test_split(X,y,test_size=0.3, random_state=42)"
   ]
  },
  {
   "cell_type": "code",
   "execution_count": 76,
   "id": "dd0e7235",
   "metadata": {},
   "outputs": [
    {
     "name": "stdout",
     "output_type": "stream",
     "text": [
      "title / Unknown: 0 10727\n",
      "city / Unknown: 0 10727\n",
      "department / Unknown: 7008 10727\n",
      "company_profile / Unknown: 1961 10727\n",
      "requirements / Unknown: 1628 10727\n",
      "benefits / Unknown: 4367 10727\n",
      "industry / Unknown: 2938 10727\n",
      "function / Unknown: 3869 10727\n",
      "employment_type / Unknown: 2057 10727\n",
      "required_experience / Unknown: 4238 10727\n",
      "required_education / Unknown: 4900 10727\n"
     ]
    }
   ],
   "source": [
    "# How many Unkown for col\n",
    "for col in selected_cols:\n",
    "    name = f'Unknown {col}'\n",
    "    print(f'{col} / Unknown: {df_train[df_train[col]==name].shape[0]}', df_train[col].shape[0] )"
   ]
  },
  {
   "cell_type": "markdown",
   "id": "fd5d265a",
   "metadata": {},
   "source": [
    "### Vectorize  "
   ]
  },
  {
   "cell_type": "code",
   "execution_count": 77,
   "id": "25b94b72",
   "metadata": {},
   "outputs": [],
   "source": [
    "def vectorize_df(df, fit=False, vectorizer_cols=None, max_features=0, ngram_range=(1,1)):\n",
    "    vector_cols = {} # Create a dict with all columns vectors stored in its matrixes\n",
    "    if fit: vectorizer_cols = {} # Vectorizer learns from one column only. MUST DO IT one by one. FIT PHASE.\n",
    "    \n",
    "    for col in df.columns:\n",
    "        if fit:\n",
    "#             print('Fitting and Transforming')\n",
    "            vectorizer = TfidfVectorizer(stop_words='english', ngram_range=ngram_range)\n",
    "            vectors_col = vectorizer.fit_transform(df[col])\n",
    "            vectorizer_cols[col] = vectorizer # Store the specific vectorizer.\n",
    "        else:\n",
    "#             print('Transforming')\n",
    "            vectors_col = vectorizer_cols[col].transform(df[col]) # Transform with the vectorizer which we've learnt.\n",
    "            \n",
    "        vector_cols[col] = vectors_col\n",
    "        \n",
    "    # Stack together all matrixes in one.\n",
    "#     try:\n",
    "#         del vectors\n",
    "#     except:\n",
    "#         print('Deleted past vectors')\n",
    "    for i, col in enumerate(vector_cols.keys()):\n",
    "        if i==0:\n",
    "            vectors = hstack([vector_cols[col], vector_cols[list(vector_cols.keys())[i+1]]]) # Stack first and second\n",
    "        else:\n",
    "            try:\n",
    "                vectors = hstack([vectors, vector_cols[list(vector_cols.keys())[i+1]]]) # Stack the previous stack with next el.\n",
    "            except Exception as e:\n",
    "#                 print(col, i, e) # Out of Range, lazy to put another if\n",
    "                break\n",
    "    return vectors, vectorizer_cols"
   ]
  },
  {
   "cell_type": "markdown",
   "id": "1cc56731",
   "metadata": {},
   "source": [
    "We will try it with a few columns first, the ones we've seen have the more correlation and might better behaviour! These features are:\n",
    "* Title\n",
    "* Industry 1:(Oil/Energy/Accounting)\n",
    "* Function 1:(Administrative) ; 0:(Information/Tech)\n",
    "* Dept 1:(Clerical, Engineering)\n",
    "* Company Profile: (Service/Candidate) !Be careful with Unkwnown here!\n"
   ]
  },
  {
   "cell_type": "code",
   "execution_count": 78,
   "id": "2708bcd6",
   "metadata": {},
   "outputs": [],
   "source": [
    "train_vectors, vectorizer = vectorize_df(X, fit=True)"
   ]
  },
  {
   "cell_type": "code",
   "execution_count": 79,
   "id": "32f5eb3f",
   "metadata": {},
   "outputs": [
    {
     "data": {
      "text/plain": [
       "(10727, 69886)"
      ]
     },
     "execution_count": 79,
     "metadata": {},
     "output_type": "execute_result"
    }
   ],
   "source": [
    "train_vectors.shape"
   ]
  },
  {
   "cell_type": "code",
   "execution_count": 80,
   "id": "94d85b03-2608-4e79-9e10-37bb30ebcddf",
   "metadata": {},
   "outputs": [],
   "source": [
    "df_bool = df_train[['telecommuting','logo','questions']]\n",
    "X_bool = df_bool.values\n",
    "\n",
    "# X_id = df_train['job_id'].values\n",
    "# X_id = X_id.reshape(-1,1)\n",
    "# X_id = X_id.astype(int)\n",
    "# X = hstack((train_vectors,X_bool,X_id))\n",
    "\n",
    "X = hstack((train_vectors,X_bool))"
   ]
  },
  {
   "cell_type": "markdown",
   "id": "1f6294b0-6fb7-4b3a-8d2a-1d740448f9d3",
   "metadata": {},
   "source": [
    "## Modeling"
   ]
  },
  {
   "cell_type": "code",
   "execution_count": 82,
   "id": "a3aae948",
   "metadata": {},
   "outputs": [
    {
     "data": {
      "text/plain": [
       "GridSearchCV(cv=5,\n",
       "             estimator=XGBClassifier(base_score=None, booster=None,\n",
       "                                     callbacks=None, colsample_bylevel=None,\n",
       "                                     colsample_bynode=None,\n",
       "                                     colsample_bytree=None,\n",
       "                                     early_stopping_rounds=None,\n",
       "                                     enable_categorical=False, eval_metric=None,\n",
       "                                     gamma=None, gpu_id=None, grow_policy=None,\n",
       "                                     importance_type=None,\n",
       "                                     interaction_constraints=None,\n",
       "                                     learning_rate=None, max_bin=None,\n",
       "                                     max_cat_to_onehot=None,\n",
       "                                     max_delta_step=None, max_depth=None,\n",
       "                                     max_leaves=None, min_child_weight=None,\n",
       "                                     missing=nan, monotone_constraints=None,\n",
       "                                     n_estimators=100, n_jobs=None,\n",
       "                                     num_parallel_tree=None, predictor=None,\n",
       "                                     random_state=42, reg_alpha=None,\n",
       "                                     reg_lambda=None, ...),\n",
       "             n_jobs=-1,\n",
       "             param_grid={'learning_rate': [0.15], 'max_depth': [6, 9],\n",
       "                         'min_child_weight': [1]},\n",
       "             scoring='f1')"
      ]
     },
     "execution_count": 82,
     "metadata": {},
     "output_type": "execute_result"
    }
   ],
   "source": [
    "X_train, X_valid, y_train, y_valid = train_test_split(X,y,test_size=0.3, random_state=42)\n",
    "scaler = StandardScaler(with_mean=False)\n",
    "X_train = scaler.fit_transform(X_train)\n",
    "X_valid = scaler.transform(X_valid)\n",
    "\n",
    "# clf = XGBClassifier(max_depth=9,min_child_weight=2)\n",
    "classes_weights = class_weight.compute_sample_weight(\n",
    "    class_weight='balanced',\n",
    "    y=y_train\n",
    ")\n",
    "gsc = GridSearchCV(\n",
    "            estimator=XGBClassifier(random_state=42),\n",
    "            param_grid={\"learning_rate\": [0.15],\n",
    "                        \"max_depth\": [ 6, 9],\n",
    "                        \"min_child_weight\": [1]},\n",
    "            cv=5, scoring='f1', verbose=0, n_jobs=-1)\n",
    "gsc.fit(X_train, y_train)\n",
    "# clf.fit(X_train, y_train, classes_weights)"
   ]
  },
  {
   "cell_type": "code",
   "execution_count": 83,
   "id": "75a31c1f",
   "metadata": {},
   "outputs": [
    {
     "data": {
      "text/plain": [
       "{'learning_rate': 0.15, 'max_depth': 9, 'min_child_weight': 1}"
      ]
     },
     "execution_count": 83,
     "metadata": {},
     "output_type": "execute_result"
    }
   ],
   "source": [
    "gsc.best_params_"
   ]
  },
  {
   "cell_type": "code",
   "execution_count": 84,
   "id": "73b69041",
   "metadata": {
    "scrolled": true
   },
   "outputs": [
    {
     "data": {
      "text/plain": [
       "<sklearn.metrics._plot.confusion_matrix.ConfusionMatrixDisplay at 0x2310269c3a0>"
      ]
     },
     "execution_count": 84,
     "metadata": {},
     "output_type": "execute_result"
    },
    {
     "data": {
      "image/png": "[encoded data removed]",
      "text/plain": [
       "<Figure size 640x480 with 2 Axes>"
      ]
     },
     "metadata": {},
     "output_type": "display_data"
    }
   ],
   "source": [
    "ConfusionMatrixDisplay.from_estimator(gsc, X_valid, y_valid)"
   ]
  },
  {
   "cell_type": "code",
   "execution_count": 85,
   "id": "0ffe2573",
   "metadata": {},
   "outputs": [
    {
     "data": {
      "text/plain": [
       "0.8062015503875969"
      ]
     },
     "execution_count": 85,
     "metadata": {},
     "output_type": "execute_result"
    }
   ],
   "source": [
    "f1_score(y_valid, gsc.predict(X_valid))"
   ]
  },
  {
   "cell_type": "code",
   "execution_count": 58,
   "id": "3dfbab83",
   "metadata": {},
   "outputs": [
    {
     "data": {
      "text/plain": [
       "((10727, 935582), (10727,))"
      ]
     },
     "execution_count": 58,
     "metadata": {},
     "output_type": "execute_result"
    }
   ],
   "source": [
    "X.shape, y.shape"
   ]
  },
  {
   "cell_type": "code",
   "execution_count": null,
   "id": "b8154085",
   "metadata": {},
   "outputs": [],
   "source": []
  },
  {
   "cell_type": "code",
   "execution_count": 74,
   "id": "848db6a3",
   "metadata": {},
   "outputs": [
    {
     "ename": "TypeError",
     "evalue": "PCA does not support sparse input. See TruncatedSVD for a possible alternative.",
     "output_type": "error",
     "traceback": [
      "\u001b[1;31m---------------------------------------------------------------------------\u001b[0m",
      "\u001b[1;31mTypeError\u001b[0m                                 Traceback (most recent call last)",
      "Input \u001b[1;32mIn [74]\u001b[0m, in \u001b[0;36m<cell line: 3>\u001b[1;34m()\u001b[0m\n\u001b[0;32m      1\u001b[0m \u001b[38;5;28;01mfrom\u001b[39;00m \u001b[38;5;21;01msklearn\u001b[39;00m\u001b[38;5;21;01m.\u001b[39;00m\u001b[38;5;21;01mmanifold\u001b[39;00m \u001b[38;5;28;01mimport\u001b[39;00m TSNE\n\u001b[0;32m      2\u001b[0m \u001b[38;5;28;01mfrom\u001b[39;00m \u001b[38;5;21;01msklearn\u001b[39;00m\u001b[38;5;21;01m.\u001b[39;00m\u001b[38;5;21;01mdecomposition\u001b[39;00m \u001b[38;5;28;01mimport\u001b[39;00m PCA\n\u001b[1;32m----> 3\u001b[0m X_embedded_PCA \u001b[38;5;241m=\u001b[39m \u001b[43mPCA\u001b[49m\u001b[43m(\u001b[49m\u001b[43mn_components\u001b[49m\u001b[38;5;241;43m=\u001b[39;49m\u001b[38;5;241;43m5000\u001b[39;49m\u001b[43m)\u001b[49m\u001b[38;5;241;43m.\u001b[39;49m\u001b[43mfit_transform\u001b[49m\u001b[43m(\u001b[49m\u001b[43mX\u001b[49m\u001b[43m)\u001b[49m\n\u001b[0;32m      4\u001b[0m X_embedded_tsne \u001b[38;5;241m=\u001b[39m TSNE(n_components\u001b[38;5;241m=\u001b[39m\u001b[38;5;241m2\u001b[39m)\u001b[38;5;241m.\u001b[39mfit_transform(X_embedded_PCA)\n",
      "File \u001b[1;32m~\\anaconda3\\lib\\site-packages\\sklearn\\decomposition\\_pca.py:407\u001b[0m, in \u001b[0;36mPCA.fit_transform\u001b[1;34m(self, X, y)\u001b[0m\n\u001b[0;32m    385\u001b[0m \u001b[38;5;28;01mdef\u001b[39;00m \u001b[38;5;21mfit_transform\u001b[39m(\u001b[38;5;28mself\u001b[39m, X, y\u001b[38;5;241m=\u001b[39m\u001b[38;5;28;01mNone\u001b[39;00m):\n\u001b[0;32m    386\u001b[0m     \u001b[38;5;124;03m\"\"\"Fit the model with X and apply the dimensionality reduction on X.\u001b[39;00m\n\u001b[0;32m    387\u001b[0m \n\u001b[0;32m    388\u001b[0m \u001b[38;5;124;03m    Parameters\u001b[39;00m\n\u001b[1;32m   (...)\u001b[0m\n\u001b[0;32m    405\u001b[0m \u001b[38;5;124;03m    C-ordered array, use 'np.ascontiguousarray'.\u001b[39;00m\n\u001b[0;32m    406\u001b[0m \u001b[38;5;124;03m    \"\"\"\u001b[39;00m\n\u001b[1;32m--> 407\u001b[0m     U, S, Vt \u001b[38;5;241m=\u001b[39m \u001b[38;5;28;43mself\u001b[39;49m\u001b[38;5;241;43m.\u001b[39;49m\u001b[43m_fit\u001b[49m\u001b[43m(\u001b[49m\u001b[43mX\u001b[49m\u001b[43m)\u001b[49m\n\u001b[0;32m    408\u001b[0m     U \u001b[38;5;241m=\u001b[39m U[:, : \u001b[38;5;28mself\u001b[39m\u001b[38;5;241m.\u001b[39mn_components_]\n\u001b[0;32m    410\u001b[0m     \u001b[38;5;28;01mif\u001b[39;00m \u001b[38;5;28mself\u001b[39m\u001b[38;5;241m.\u001b[39mwhiten:\n\u001b[0;32m    411\u001b[0m         \u001b[38;5;66;03m# X_new = X * V / S * sqrt(n_samples) = U * sqrt(n_samples)\u001b[39;00m\n",
      "File \u001b[1;32m~\\anaconda3\\lib\\site-packages\\sklearn\\decomposition\\_pca.py:425\u001b[0m, in \u001b[0;36mPCA._fit\u001b[1;34m(self, X)\u001b[0m\n\u001b[0;32m    422\u001b[0m \u001b[38;5;66;03m# Raise an error for sparse input.\u001b[39;00m\n\u001b[0;32m    423\u001b[0m \u001b[38;5;66;03m# This is more informative than the generic one raised by check_array.\u001b[39;00m\n\u001b[0;32m    424\u001b[0m \u001b[38;5;28;01mif\u001b[39;00m issparse(X):\n\u001b[1;32m--> 425\u001b[0m     \u001b[38;5;28;01mraise\u001b[39;00m \u001b[38;5;167;01mTypeError\u001b[39;00m(\n\u001b[0;32m    426\u001b[0m         \u001b[38;5;124m\"\u001b[39m\u001b[38;5;124mPCA does not support sparse input. See \u001b[39m\u001b[38;5;124m\"\u001b[39m\n\u001b[0;32m    427\u001b[0m         \u001b[38;5;124m\"\u001b[39m\u001b[38;5;124mTruncatedSVD for a possible alternative.\u001b[39m\u001b[38;5;124m\"\u001b[39m\n\u001b[0;32m    428\u001b[0m     )\n\u001b[0;32m    430\u001b[0m X \u001b[38;5;241m=\u001b[39m \u001b[38;5;28mself\u001b[39m\u001b[38;5;241m.\u001b[39m_validate_data(\n\u001b[0;32m    431\u001b[0m     X, dtype\u001b[38;5;241m=\u001b[39m[np\u001b[38;5;241m.\u001b[39mfloat64, np\u001b[38;5;241m.\u001b[39mfloat32], ensure_2d\u001b[38;5;241m=\u001b[39m\u001b[38;5;28;01mTrue\u001b[39;00m, copy\u001b[38;5;241m=\u001b[39m\u001b[38;5;28mself\u001b[39m\u001b[38;5;241m.\u001b[39mcopy\n\u001b[0;32m    432\u001b[0m )\n\u001b[0;32m    434\u001b[0m \u001b[38;5;66;03m# Handle n_components==None\u001b[39;00m\n",
      "\u001b[1;31mTypeError\u001b[0m: PCA does not support sparse input. See TruncatedSVD for a possible alternative."
     ]
    }
   ],
   "source": [
    "from sklearn.manifold import TSNE\n",
    "from sklearn.decomposition import PCA\n",
    "X_embedded_PCA = PCA(n_components=5000).fit_transform(X)\n",
    "X_embedded_tsne = TSNE(n_components=2).fit_transform(X_embedded_PCA)"
   ]
  },
  {
   "cell_type": "code",
   "execution_count": null,
   "id": "010e50f7",
   "metadata": {},
   "outputs": [],
   "source": []
  },
  {
   "cell_type": "code",
   "execution_count": 47,
   "id": "5e28af52-32d7-413a-b147-488729873a2f",
   "metadata": {},
   "outputs": [
    {
     "name": "stderr",
     "output_type": "stream",
     "text": [
      "C:\\Users\\Goodie\\anaconda3\\lib\\site-packages\\xgboost\\core.py:568: FutureWarning: Pass `sample_weight` as keyword args.  Passing these as positional arguments will be considered as error in future releases.\n",
      "  warnings.warn(\n"
     ]
    },
    {
     "data": {
      "text/plain": [
       "XGBClassifier(base_score=0.5, booster='gbtree', callbacks=None,\n",
       "              colsample_bylevel=1, colsample_bynode=1, colsample_bytree=1,\n",
       "              early_stopping_rounds=None, enable_categorical=False,\n",
       "              eval_metric=None, gamma=0, gpu_id=-1, grow_policy='depthwise',\n",
       "              importance_type=None, interaction_constraints='',\n",
       "              learning_rate=0.300000012, max_bin=256, max_cat_to_onehot=4,\n",
       "              max_delta_step=0, max_depth=9, max_leaves=0, min_child_weight=2,\n",
       "              missing=nan, monotone_constraints='()', n_estimators=100,\n",
       "              n_jobs=0, num_parallel_tree=1, predictor='auto', random_state=0,\n",
       "              reg_alpha=0, reg_lambda=1, ...)"
      ]
     },
     "execution_count": 47,
     "metadata": {},
     "output_type": "execute_result"
    }
   ],
   "source": [
    "#To predict test.csv we train the model with the complete dataset.\n",
    "scaler = StandardScaler(with_mean=False)\n",
    "X = scaler.fit_transform(X)\n",
    "\n",
    "clf = XGBClassifier(max_depth=9,min_child_weight=2)\n",
    "classes_weights = class_weight.compute_sample_weight(\n",
    "    class_weight='balanced',\n",
    "    y=y\n",
    ")\n",
    "clf.fit(X, y,classes_weights)"
   ]
  },
  {
   "cell_type": "code",
   "execution_count": 48,
   "id": "fa25ca2e-e916-4e46-95cb-ab857a390d2c",
   "metadata": {},
   "outputs": [
    {
     "data": {
      "text/plain": [
       "<sklearn.metrics._plot.confusion_matrix.ConfusionMatrixDisplay at 0x23169430910>"
      ]
     },
     "execution_count": 48,
     "metadata": {},
     "output_type": "execute_result"
    },
    {
     "data": {
      "image/png": "[encoded data removed]",
      "text/plain": [
       "<Figure size 640x480 with 2 Axes>"
      ]
     },
     "metadata": {},
     "output_type": "display_data"
    }
   ],
   "source": [
    "ConfusionMatrixDisplay.from_estimator(clf, X, y)"
   ]
  },
  {
   "cell_type": "code",
   "execution_count": 49,
   "id": "57809c47-9ca7-4dda-95cb-d866a0b7ab34",
   "metadata": {},
   "outputs": [
    {
     "data": {
      "text/plain": [
       "1.0"
      ]
     },
     "execution_count": 49,
     "metadata": {},
     "output_type": "execute_result"
    }
   ],
   "source": [
    "f1_score(y, clf.predict(X))"
   ]
  },
  {
   "cell_type": "markdown",
   "id": "f9a543c0",
   "metadata": {
    "tags": []
   },
   "source": [
    "### PREPARE TEST "
   ]
  },
  {
   "cell_type": "code",
   "execution_count": null,
   "id": "ed056380",
   "metadata": {},
   "outputs": [],
   "source": [
    "X_test = df_test_proc[selected_cols]"
   ]
  },
  {
   "cell_type": "code",
   "execution_count": null,
   "id": "69c130ac",
   "metadata": {},
   "outputs": [],
   "source": [
    "test_vectors, _ = vectorize_df(X_test, fit=False, vectorizer_cols=vectorizer)"
   ]
  },
  {
   "cell_type": "code",
   "execution_count": null,
   "id": "05290447",
   "metadata": {},
   "outputs": [],
   "source": [
    "test_vectors.shape, X_test.shape"
   ]
  },
  {
   "cell_type": "code",
   "execution_count": null,
   "id": "132d6914-f19f-4ba6-bd24-7982dea6b823",
   "metadata": {},
   "outputs": [],
   "source": [
    "df_bool = df_test[['telecommuting','logo','questions']]\n",
    "X_bool = df_bool.values\n",
    "\n",
    "X_id = df_test['job_id'].values\n",
    "X_id = X_id.reshape(-1,1)\n",
    "X_id = X_id.astype(int)\n",
    "\n",
    "X_test = hstack((test_vectors,X_bool,X_id))\n",
    "\n",
    "X_test = scaler.transform(X_test)"
   ]
  },
  {
   "cell_type": "code",
   "execution_count": null,
   "id": "6f9df6b7",
   "metadata": {},
   "outputs": [],
   "source": [
    "yhat = clf.predict(X_test)\n",
    "#Saving the prediction in the Kaggle format.\n",
    "d = {'Id': range(len(yhat)), 'Category': yhat.astype(int)}\n",
    "df = pd.DataFrame(data=d)\n",
    "df.to_csv('submission.csv',index=False)"
   ]
  },
  {
   "cell_type": "code",
   "execution_count": null,
   "id": "b8171617",
   "metadata": {},
   "outputs": [],
   "source": []
  }
 ],
 "metadata": {
  "kernelspec": {
   "display_name": "Python 3 (ipykernel)",
   "language": "python",
   "name": "python3"
  },
  "language_info": {
   "codemirror_mode": {
    "name": "ipython",
    "version": 3
   },
   "file_extension": ".py",
   "mimetype": "text/x-python",
   "name": "python",
   "nbconvert_exporter": "python",
   "pygments_lexer": "ipython3",
   "version": "3.9.12"
  }
 },
 "nbformat": 4,
 "nbformat_minor": 5
}
